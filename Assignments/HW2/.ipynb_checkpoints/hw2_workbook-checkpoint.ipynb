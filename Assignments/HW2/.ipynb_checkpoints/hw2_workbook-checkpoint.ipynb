{
 "cells": [
  {
   "cell_type": "markdown",
   "metadata": {},
   "source": [
    "# HW 2 - Naive Bayes in Hadoop MR\n",
    "__`MIDS w261: Machine Learning at Scale | UC Berkeley School of Information | Fall 2018`__\n",
    "\n",
    "In the live sessions for week 2 and week 3 you got some practice designing and debugging Hadoop Streaming jobs. In this homework we'll use Hadoop MapReduce to implement your first parallelized machine learning algorithm: Naive Bayes. As you develop your implementation you'll test it on a small dataset that matches the 'Chinese Example' in the _Manning, Raghavan and Shutze_ reading for Week 2. For the main task in this assignment you'll be working with a small subset of the Enron Spam/Ham Corpus. By the end of this assignment you should be able to:\n",
    "* __... describe__ the Naive Bayes algorithm including both training and inference.\n",
    "* __... perform__ EDA on a corpus using Hadoop MR.\n",
    "* __... implement__ parallelized Naive Bayes.\n",
    "* __... constrast__ partial, unordered and total order sort and their implementations in Hadoop Streaming.\n",
    "* __... explain__ how smoothing affects the bias and variance of a Multinomial Naive Bayes model.\n",
    "\n",
    "As always, your work will be graded both on the correctness of your output and on the clarity and design of your code. __Please refer to the `README` for homework submission instructions.__ "
   ]
  },
  {
   "cell_type": "markdown",
   "metadata": {},
   "source": [
    "## Notebook Setup\n",
    "Before starting, run the following cells to confirm your setup."
   ]
  },
  {
   "cell_type": "code",
   "execution_count": 24,
   "metadata": {},
   "outputs": [
    {
     "name": "stdout",
     "output_type": "stream",
     "text": [
      "Hadoop 2.6.0-cdh5.16.2\n",
      "Subversion http://github.com/cloudera/hadoop -r 4f94d60caa4cbb9af0709a2fd96dc3861af9cf20\n",
      "Compiled by jenkins on 2019-06-03T10:43Z\n",
      "Compiled with protoc 2.5.0\n",
      "From source with checksum 79b9b24a29c6358b53597c3b49575e37\n",
      "This command was run using /usr/lib/hadoop/hadoop-common-2.6.0-cdh5.16.2.jar\n"
     ]
    }
   ],
   "source": [
    "! hadoop version"
   ]
  },
  {
   "cell_type": "code",
   "execution_count": 25,
   "metadata": {},
   "outputs": [],
   "source": [
    "# imports\n",
    "import numpy as np\n",
    "import matplotlib.pyplot as plt\n",
    "%matplotlib inline\n",
    "%reload_ext autoreload\n",
    "%autoreload 2"
   ]
  },
  {
   "cell_type": "code",
   "execution_count": 26,
   "metadata": {},
   "outputs": [],
   "source": [
    "# global vars (paths) - ADJUST AS NEEDED\n",
    "JAR_FILE = \"/usr/lib/hadoop-mapreduce/hadoop-streaming.jar\"\n",
    "HDFS_DIR = \"/user/root/HW2/\"\n",
    "HOME_DIR = \"/media/notebooks/Assignments/HW2\" # FILL IN HERE eg. /media/notebooks/Assignments/HW2"
   ]
  },
  {
   "cell_type": "code",
   "execution_count": 27,
   "metadata": {},
   "outputs": [],
   "source": [
    "# save path for use in Hadoop jobs (-cmdenv PATH={PATH})\n",
    "from os import environ\n",
    "PATH  = environ['PATH']"
   ]
  },
  {
   "cell_type": "code",
   "execution_count": 28,
   "metadata": {},
   "outputs": [],
   "source": [
    "# data path\n",
    "ENRON = \"data/enronemail_1h.txt\""
   ]
  },
  {
   "cell_type": "code",
   "execution_count": 29,
   "metadata": {},
   "outputs": [
    {
     "name": "stdout",
     "output_type": "stream",
     "text": [
      "Found 2 items\n",
      "drwxr-xr-x   - root supergroup          0 2020-05-25 03:22 HW2\n",
      "drwxr-xr-x   - root supergroup          0 2020-05-14 21:28 demo2\n",
      "mkdir: `/user/root/HW2': File exists\n"
     ]
    }
   ],
   "source": [
    "# make the HDFS directory if it doesn't already exist\n",
    "!hdfs dfs -ls \n",
    "!hdfs dfs -mkdir {HDFS_DIR}"
   ]
  },
  {
   "cell_type": "markdown",
   "metadata": {},
   "source": [
    "# Question 1: Hadoop MapReduce Key Takeaways.  \n",
    "\n",
    "This assignment will be the only one in which you use Hadoop Streaming to implement a distributed algorithm. The key reason we continue to teach Hadoop streaming is because of the way it forces the programmer to think carefully about what is happening under the hood when you parallelize a calculation. This question will briefly highlight some of the most important concepts that you need to understand about Hadoop Streaming and MapReduce before we move on to Spark next week.   \n",
    "\n",
    "### Q1 Tasks:\n",
    "\n",
    "* __a) short response:__ What \"programming paradigm\" is Hadoop MapReduce based on? What are the main ideas of this programming paradigm and how does MapReduce exemplify these ideas?\n",
    "\n",
    "* __b) short response:__ What is the Hadoop Shuffle? When does it happen? Why is it potentially costly? Describe one specific thing we can we do to mitigate the cost associated with this stage of our Hadoop Streaming jobs.\n",
    "\n",
    "* __c) short response:__ In Hadoop Streaming why do the input and output record format of a combiner script have to be the same? [__`HINT`__ _what level of combining does the framework guarantee? what is the relationship between the record format your mapper emits and the format your reducer expects to receive?_]\n",
    "\n",
    "* __d) short response:__ To what extent can you control the level of parallelization of your Hadoop Streaming jobs? Please be specific.\n",
    "\n",
    "* __e) short response:__ What change in the kind of computing resources available prompted the creation of parallel computation frameworks like Hadoop? "
   ]
  },
  {
   "cell_type": "markdown",
   "metadata": {},
   "source": [
    "### Q1 Student Answers:\n",
    "\n",
    "> __a)__ Hadoop MapReduce is a programmming paradigm that was designed to allow parallel distributed processing of large set of data and combining and reduceing to a smaller set. The main idea of this paradigm is mapping and reducing, given a list, map takes as an argument a function  𝑓  to be applied to all elements of the list; given a list, fold (i.e. reduce) takes as arguments a function  𝑔  and an initial value, which are applied to all items in the list, collapsing itemsto produce a final value.\n",
    "\n",
    "> __b)__ Hadoop Shuffle is the heart of MapReduce, which performs the sort and transfers the map outputs to the reducers and guarantee that the input to every reducer is sorted by key. It happens after the map and before the reduce job. The sorting part is costly in both time and space when we have all the outputs from each mapper on the memory or disk. The in-map combiner or local aggregation could significantly save the size of output data from mapper.\n",
    "\n",
    "> __c)__ The reducer is expected to recieve the output data from mapper, the combiner is an optional function, which means combiners might or might not be used in Hadoop. Therefore, if the data format of mapper's output and reducer's input is set, the combiner must not change the input and output record format in order to keep the orignial process going. \n",
    "\n",
    "> __d)__ In Hadoop Streaming jobs, we can specify the block size and task number (# of maps per node, # of reducers per node). For the # of maps, this can be set via mapred.map.tasks; a lower bound on split size can be set via mapred.min.split.size. # of maps can be set manually via JobConf's conf.setNumMapTasks, which can be used to increase, but not decrease below Hadoop's determined #. Reducers can be increase (limited upwards at ~1000 by the buffer size), and can be changed manually in the same way as the mapper: JobConf's conf.setNumReduceTasks(int num).\n",
    "\n",
    "> __e)__ The data volume is growing faster than the storage space, also the processing power and bandwidth is limiting fast process large volume of data. This motivates the creation of parallel processing like MapReduce and other framworks. The programmers only need to implement the mapper, the reducer and optionally, the combiner and the partitioner. All other aspects of execution are handled transparently by the execution framework."
   ]
  },
  {
   "cell_type": "markdown",
   "metadata": {},
   "source": [
    "# Question 2: MapReduce Design Patterns.  \n",
    "\n",
    "In the last two live sessions and in your readings from Lin & Dyer you encountered a number of techniques for manipulating the logistics of a MapReduce implementation to ensure that the right information is available at the right time and location. In this question we'll review a few of the key techniques you learned.   \n",
    "\n",
    "### Q2 Tasks:\n",
    "\n",
    "* __a) short response:__ What are counters (in the context of Hadoop Streaming)? How are they useful? What kinds of counters does Hadoop provide for you? How do you create your own custom counter?\n",
    "\n",
    "* __b) short response:__ What are composite keys? How are they useful? How are they related to the idea of custom partitioning?\n",
    "\n",
    "* __c) short response:__ What is the order inversion pattern? What problem does it help solve? How do we implement it? "
   ]
  },
  {
   "cell_type": "markdown",
   "metadata": {},
   "source": [
    "### Q2 Student Answers:\n",
    "\n",
    "> __a)__ Counters in Hadoop Streaming are used to keep track of the number of occurrences of any event. Default counters include MapReduce Task Counters (e.g. # of input_records and output records for each map / reduce tasks), FileSystem Counters (e.g. # of bytes read and written by map / reduce tasks), FileInputFormat Counters (e.g. bytes read by map tasks via FileInputFormat), FileOutputFormat Counters (# of bytes written by map / reduce tasks via FileOutputFormat), MapReduce Job Counters (e.g. job-level statistics, such as # of map tasks launched over course of job, including those that failed, time elapsed, etc). Custom counters can be coded by the uservia Java enum. \n",
    "\n",
    "> __b)__ The composite keys are a new set of keys created based on multiple intermediate keys. It is very helpful for second sorting jobs when we have two or more set of keys needs to be sorted. We must also implement a custom partitioner so that all pairs associated with the same sensor are shuffled to the same reducer.\n",
    "\n",
    "> __c)__ The order inversion pattern is '*\\<text\\>'. It helps solve to enable parallelism, efficiency, and scalability in computing totals and relative frequencies (as well as, presumably, any other aggregate functions that need to be applied to the data set). Alternatives face issue with limited memory via the use of a single reducer, and / or lower efficiency required by passing through the data twice via sequential MapReduce processes. It utilizes MapReduce's inherent shuffle & sort behavior to force specific fields to the top of the list, enabling Reducing of the aggregate value first, to be known ahead of time to compute subsequent calculations. In general, it should be implemented with custom partitioning, by appending an additional key to leverage default partitioning behavior of the framework to emit totals multiple times, once to each reducer. This way, each reducer knows the full aggregate value by reducing across all aggregate line items. \n"
   ]
  },
  {
   "cell_type": "markdown",
   "metadata": {},
   "source": [
    "# Question 3: Understanding Total Order Sort\n",
    "\n",
    "The key challenge in distributed computing is to break a problem into a set of sub-problems that can be performed without communicating with each other. Ideally, we should be able to define an arbirtary number of splits and still get the right result, but that is not always possible. Parallelization becomes particularly challenging when we need to make comparisons between records, for example when sorting. Total Order Sort allows us to order large datasets in a way that enables efficient retrieval of results. Before beginning this assignment, make sure you have read and understand the [Total Order Sort Notebook](https://github.com/UCB-w261/main/tree/master/HelpfulResources/TotalSortGuide/_total-sort-guide-spark2.01-JAN27-2017.ipynb). You can skip the first two MRJob sections, but the rest of section III and all of section IV are **very** important (and apply to Hadoop Streaming) so make sure to read them closely. Feel free to read the Spark sections as well but you won't be responsible for that material until later in the course. To verify your understanding, answer the following questions.\n",
    "\n",
    "### Q3 Tasks:\n",
    "\n",
    "* __a) short response:__ What is the difference between a partial sort, an unordered total sort, and a total order sort? From the programmer's perspective, what does total order sort allow us to do that we can't with unordered total? Why is this important with large datasets?\n",
    "\n",
    "* __b) short response:__ Which phase of a MapReduce job is leveraged to implement Total Order Sort? Which default behaviors must be changed. Why must they be changed?\n",
    "\n",
    "* __c) short response:__ Describe in words how to configure a Hadoop Streaming job for the custom sorting and partitioning that is required for Total Order Sort.  \n",
    "\n",
    "* __d) short response:__ Explain why we need to use an inverse hash code function.\n",
    "\n",
    "* __e) short response:__ Where does this function need to be located so that a Total Order Sort can be performed?"
   ]
  },
  {
   "cell_type": "markdown",
   "metadata": {},
   "source": [
    "### Q3 Student Answers:\n",
    "\n",
    "> __a)__ A partial sort sorts key-value records within each partition file based on the key, and is default behavior. An unordered total sort orders all values across all partitions based on a single key, requiring all partitions to be stacked to generate a total ordering. A total order sort is the same as total unordered sort, but requires that partition file names also be assigned an order. Total order sort allows us to move sequentially through partitions to identify specific items based on value / key rankings. This is not possible with unordered total. This is important from an efficiency standpoint / perspective for large datasets.\n",
    "\n",
    "> __b)__ Map / Partition phases are needed; a partition file or partition function needs to be included in the mapper to generate a specific partition key that will help override the default within-partition sorting of Hadoop MapReduce. More specifically, one needs to override the default shuffle behavior by providing a custom partitioner(partition key), a custom sort specification (e.g., numeric/alphanumeric increasing/decreasing), and a combiner. Note that a combiner is not required for a total order sort but makes the MapReduce job more efficient. This needs to be changed because the default sort behavior is a partial sort.\n",
    "\n",
    "> __c)__ First generate (partition key,hashed key) pairs at mapping stage. Sort keys by hashed values. Generate partitions based on # of reducers and size of data (e.g. assume specific distribution). Perform secondary sort on desired value. Drop partition keys; Reducer will write total order sorted data to partitions.\n",
    "\n",
    "> __d)__ Inverse hash code function is needed to know which value to assign to which partition in order to preserve the partition ordering set out by the framework.\n",
    "\n",
    "> __e)__ Inverse hash code function needs to be located in the Mapper Phase, in order to assign records to specific partitions based on index."
   ]
  },
  {
   "cell_type": "markdown",
   "metadata": {},
   "source": [
    "# About the Data\n",
    "For the main task in this portion of the homework you will train a classifier to determine whether an email represents spam or not. You will train your Naive Bayes model on a 100 record subset of the Enron Spam/Ham corpus available in the HW2 data directory (__`HW2/data/enronemail_1h.txt`__).\n",
    "\n",
    "__Source:__   \n",
    "The original data included about 93,000 emails which were made public after the company's collapse. There have been a number raw and preprocessed versions of this corpus (including those available [here](http://www.aueb.gr/users/ion/data/enron-spam/index.html) and [here](http://www.aueb.gr/users/ion/publications.html)). The subset we will use is limited to emails from 6 Enron employees and a number of spam sources. It is part of [this data set](http://www.aueb.gr/users/ion/data/enron-spam/) which was created by researchers working on personlized Bayesian spam filters. Their original publication is [available here](http://www.aueb.gr/users/ion/docs/ceas2006_paper.pdf). __`IMPORTANT!`__ _For this homework please limit your analysis to the 100 email subset which we provide. No need to download or run your analysis on any of the original datasets, those links are merely provided as context._\n",
    "\n",
    "__Preprocessing:__  \n",
    "For their work, Metsis et al. (the authors) appeared to have pre-processed the data, not only collapsing all text to lower-case, but additionally separating \"words\" by spaces, where \"words\" unfortunately include punctuation. As a concrete example, the sentence:  \n",
    ">  `Hey Jon, I hope you don't get lost out there this weekend!`  \n",
    "\n",
    "... would have been reduced by Metsis et al. to the form:  \n",
    "> `hey jon , i hope you don ' t get lost out there this weekend !` \n",
    "\n",
    "... so we have reverted the data back toward its original state, removing spaces so that our sample sentence would now look like:\n",
    "> `hey jon, i hope you don't get lost out there this weekend!`  \n",
    "\n",
    "Thus we have at least preserved contractions and other higher-order lexical forms. However, one must be aware that this reversion is not complete, and that some object (specifically web sites) will be ill-formatted, and that all text is still lower-cased.\n",
    "\n",
    "\n",
    "__Format:__   \n",
    "All messages are collated to a tab-delimited format:  \n",
    "\n",
    ">    `ID \\t SPAM \\t SUBJECT \\t CONTENT \\n`  \n",
    "\n",
    "where:  \n",
    ">    `ID = string; unique message identifier`  \n",
    "    `SPAM = binary; with 1 indicating a spam message`  \n",
    "    `SUBJECT = string; title of the message`  \n",
    "    `CONTENT = string; content of the message`   \n",
    "    \n",
    "Note that either of `SUBJECT` or `CONTENT` may be \"NA\", and that all tab (\\t) and newline (\\n) characters have been removed from both of the `SUBJECT` and `CONTENT` columns.  "
   ]
  },
  {
   "cell_type": "code",
   "execution_count": 40,
   "metadata": {},
   "outputs": [
    {
     "name": "stdout",
     "output_type": "stream",
     "text": [
      "/media/notebooks/Assignments/HW2\n"
     ]
    }
   ],
   "source": [
    "!pwd"
   ]
  },
  {
   "cell_type": "code",
   "execution_count": 41,
   "metadata": {},
   "outputs": [
    {
     "name": "stdout",
     "output_type": "stream",
     "text": [
      "0001.1999-12-10.farmer\t0\t christmas tree farm pictures\tNA\n",
      "0001.1999-12-10.kaminski\t0\t re: rankings\t thank you.\n",
      "0001.2000-01-17.beck\t0\t leadership development pilot\t\" sally:  what timing, ask and you shall receiv\n",
      "0001.2000-06-06.lokay\t0\t\" key dates and impact of upcoming sap implementation over the next few week\n",
      "0001.2001-02-07.kitchen\t0\t key hr issues going forward\t a) year end reviews-report needs generating \n"
     ]
    }
   ],
   "source": [
    "# take a look at the first 100 characters of the first 5 records (RUN THIS CELL AS IS)\n",
    "!head -n 5 /media/notebooks/Assignments/HW2/master/{ENRON} | cut -c-100"
   ]
  },
  {
   "cell_type": "code",
   "execution_count": 42,
   "metadata": {},
   "outputs": [
    {
     "name": "stdout",
     "output_type": "stream",
     "text": [
      "100 /media/notebooks/Assignments/HW2/master/data/enronemail_1h.txt\n"
     ]
    }
   ],
   "source": [
    "# see how many messages/lines are in the file \n",
    "#(this number may be off by 1 if the last line doesn't end with a newline)\n",
    "!wc -l /media/notebooks/Assignments/HW2/master/{ENRON}"
   ]
  },
  {
   "cell_type": "code",
   "execution_count": 43,
   "metadata": {},
   "outputs": [
    {
     "name": "stdout",
     "output_type": "stream",
     "text": [
      "mkdir: `/user/root/HW2': File exists\n"
     ]
    }
   ],
   "source": [
    "# make the HDFS directory if it doesn't already exist\n",
    "!hdfs dfs -mkdir {HDFS_DIR}"
   ]
  },
  {
   "cell_type": "code",
   "execution_count": 37,
   "metadata": {},
   "outputs": [
    {
     "name": "stdout",
     "output_type": "stream",
     "text": [
      "copyFromLocal: `/user/root/HW2/enron.txt': File exists\n"
     ]
    }
   ],
   "source": [
    "# load the data into HDFS (RUN THIS CELL AS IS)\n",
    "!hdfs dfs -copyFromLocal /media/notebooks/Assignments/HW2/master/{ENRON} {HDFS_DIR}/enron.txt"
   ]
  },
  {
   "cell_type": "code",
   "execution_count": 38,
   "metadata": {},
   "outputs": [
    {
     "name": "stdout",
     "output_type": "stream",
     "text": [
      "Found 8 items\n",
      "drwxr-xr-x   - root supergroup          0 2020-05-25 00:26 /user/root/HW2/chinese-output\n",
      "drwxr-xr-x   - root supergroup          0 2020-05-26 01:20 /user/root/HW2/chinese-smoothed-output\n",
      "drwxr-xr-x   - root supergroup          0 2020-05-25 03:22 /user/root/HW2/chinese-unsmoothed-output\n",
      "-rw-r--r--   1 root supergroup        119 2020-05-24 22:51 /user/root/HW2/chineseTest.txt\n",
      "-rw-r--r--   1 root supergroup        107 2020-05-24 22:51 /user/root/HW2/chineseTrain.txt\n",
      "drwxr-xr-x   - root supergroup          0 2020-05-24 21:29 /user/root/HW2/eda-output\n",
      "drwxr-xr-x   - root supergroup          0 2020-05-24 21:21 /user/root/HW2/eda-sort-output\n",
      "-rw-r--r--   1 root supergroup     204559 2020-05-21 20:50 /user/root/HW2/enron.txt\n"
     ]
    }
   ],
   "source": [
    "!hdfs dfs -ls {HDFS_DIR}"
   ]
  },
  {
   "cell_type": "markdown",
   "metadata": {},
   "source": [
    "# Question 4:  Enron Ham/Spam EDA.\n",
    "Before building our classifier, lets get aquainted with our data. In particular, we're interested in which words occur more in spam emails than in legitimate (\"ham\") emails. In this question you'll implement two Hadoop MapReduce jobs to count and sort word occurrences by document class. You'll also learn about two new Hadoop streaming parameters that will allow you to control how the records output from your mappers are partitioned for reducing on separate nodes. \n",
    "\n",
    "__`IMPORTANT NOTE:`__ For this question and all subsequent items, you should include both the subject and the body of the email in your analysis (i.e. concatetate them to get the 'text' of the document).\n",
    "\n",
    "### Q4 Tasks:\n",
    "* __a) code:__ Complete the missing components of the code in __`EnronEDA/mapper.py`__ and __`EnronEDA/reducer.py`__ to create a Hadoop  MapReduce job that counts how many times each word in the corpus occurs in an email for each class. Pay close attention to the data format specified in the docstrings of these scripts _-- there are a number of ways to accomplish this task, we've chosen this format to help illustrate a technique in `part e`_. Run the provided unit tests to confirm that your code works as expected, then run the provided Hadoop Streaming command to apply your analysis to the Enron data.\n",
    "\n",
    "\n",
    "* __b) code + short response:__ How many times does the word \"__assistance__\" occur in each class? (`HINT:` Use a `grep` command to read from the results file you generated in '`a`' and then report the answer in the space provided.)\n",
    "\n",
    "\n",
    "* __c) short response:__ Would it have been possible to add some sorting parameters to the Hadoop streaming command that would cause our `part a` results to be sorted by count? Explain why or why not. (`HINT:` This question demands an understanding of the sequence of the phases of MapReduce.)\n",
    "\n",
    "\n",
    "* __d) code + short response:__ Write a second Hadoop MapReduce job to sort the output of `part a` first by class and then by count. Run your job and save the results to a local file. Then describe in words how you would go about printing the top 10 words in each class given this sorted output. (`HINT 1:` _remember that you can simply pass the `part a` output directory to the input field of this job; `HINT 2:` since this task is just reodering the records from `part a` we don't need to write a mapper or reducer, just use `/bin/cat` for both_)\n",
    "\n",
    "\n",
    "* __e) code:__ A more efficient alternative to '`grep`-ing' for the top 10 words in each class would be to use the Hadoop framework to separate records from each class into its own partition so that we can just read the top lines in each. Rewrite your job from ` part d` to specify 2 reduce tasks and to tell Hadoop to partition based on the second field (which indicates spam/ham in our data). Your code should maintain the secondary sort -- that is each partition should list words from most to least frequent."
   ]
  },
  {
   "cell_type": "markdown",
   "metadata": {},
   "source": [
    "### Q4 Student Answers:\n",
    "> __b)__ There 8 \"assistance\" in spam and 2 \"assistance\" in ham. \n",
    "\n",
    "> __c)__ Yes, in the partition we can do sorting by using command \"-D mapreduce.partition.keycomparator.options=\"-k2,2n -k3,3nr\", which would allow the file to be sorted by spam or ham first, then the total count.\n",
    "\n",
    "> __d)__ As described in 4e, I will add the command of partitions to do the second sort. With only one numReduce Task, we can then export the combined output file and check the sorted data. In the output data column below, we see the data has been sorted by class and the by count."
   ]
  },
  {
   "cell_type": "code",
   "execution_count": 52,
   "metadata": {},
   "outputs": [],
   "source": [
    "# part a - do your work in the provided scripts then RUN THIS CELL AS IS\n",
    "!chmod a+x EnronEDA/mapper.py\n",
    "!chmod a+x EnronEDA/reducer.py"
   ]
  },
  {
   "cell_type": "code",
   "execution_count": 73,
   "metadata": {},
   "outputs": [
    {
     "name": "stdout",
     "output_type": "stream",
     "text": [
      "title\t1\t1\n",
      "body\t1\t1\n",
      "title\t0\t1\n",
      "body\t0\t1\n"
     ]
    }
   ],
   "source": [
    "# part a - unit test EnronEDA/mapper.py (RUN THIS CELL AS IS)\n",
    "!echo -e \"d1\t1\ttitle\tbody\\nd2\t0\ttitle\tbody\" | EnronEDA/mapper.py"
   ]
  },
  {
   "cell_type": "code",
   "execution_count": 74,
   "metadata": {},
   "outputs": [
    {
     "name": "stdout",
     "output_type": "stream",
     "text": [
      "one\t1\t1\n",
      "one\t0\t2\n",
      "two\t0\t1\n"
     ]
    }
   ],
   "source": [
    "# part a - unit test EnronEDA/reducer.py (RUN THIS CELL AS IS)\n",
    "!echo -e \"one\t1\t1\\none\t0\t1\\none\t0\t1\\ntwo\t0\t1\" | EnronEDA/reducer.py"
   ]
  },
  {
   "cell_type": "code",
   "execution_count": 30,
   "metadata": {},
   "outputs": [
    {
     "name": "stdout",
     "output_type": "stream",
     "text": [
      "Deleted /user/root/HW2/eda-output\n"
     ]
    }
   ],
   "source": [
    "# part a - clear output directory in HDFS (RUN THIS CELL AS IS)\n",
    "!hdfs dfs -rm -r {HDFS_DIR}/eda-output"
   ]
  },
  {
   "cell_type": "code",
   "execution_count": 123,
   "metadata": {},
   "outputs": [
    {
     "name": "stdout",
     "output_type": "stream",
     "text": [
      "Deleted /user/root/HW2/eda-output\n",
      "packageJobJar: [] [/usr/lib/hadoop-mapreduce/hadoop-streaming-2.6.0-cdh5.16.2.jar] /tmp/streamjob4803506276839424439.jar tmpDir=null\n",
      "20/05/24 20:42:32 INFO client.RMProxy: Connecting to ResourceManager at /0.0.0.0:8032\n",
      "20/05/24 20:42:32 INFO client.RMProxy: Connecting to ResourceManager at /0.0.0.0:8032\n",
      "20/05/24 20:42:33 INFO mapred.FileInputFormat: Total input paths to process : 1\n",
      "20/05/24 20:42:33 INFO mapreduce.JobSubmitter: number of splits:2\n",
      "20/05/24 20:42:33 INFO mapreduce.JobSubmitter: Submitting tokens for job: job_1590343423886_0038\n",
      "20/05/24 20:42:33 INFO impl.YarnClientImpl: Submitted application application_1590343423886_0038\n",
      "20/05/24 20:42:33 INFO mapreduce.Job: The url to track the job: http://docker.w261:8088/proxy/application_1590343423886_0038/\n",
      "20/05/24 20:42:33 INFO mapreduce.Job: Running job: job_1590343423886_0038\n",
      "20/05/24 20:42:39 INFO mapreduce.Job: Job job_1590343423886_0038 running in uber mode : false\n",
      "20/05/24 20:42:39 INFO mapreduce.Job:  map 0% reduce 0%\n",
      "20/05/24 20:42:45 INFO mapreduce.Job:  map 50% reduce 0%\n",
      "20/05/24 20:42:46 INFO mapreduce.Job:  map 100% reduce 0%\n",
      "20/05/24 20:42:51 INFO mapreduce.Job:  map 100% reduce 50%\n",
      "20/05/24 20:42:52 INFO mapreduce.Job:  map 100% reduce 100%\n",
      "20/05/24 20:42:52 INFO mapreduce.Job: Job job_1590343423886_0038 completed successfully\n",
      "20/05/24 20:42:53 INFO mapreduce.Job: Counters: 49\n",
      "\tFile System Counters\n",
      "\t\tFILE: Number of bytes read=369010\n",
      "\t\tFILE: Number of bytes written=1335626\n",
      "\t\tFILE: Number of read operations=0\n",
      "\t\tFILE: Number of large read operations=0\n",
      "\t\tFILE: Number of write operations=0\n",
      "\t\tHDFS: Number of bytes read=217061\n",
      "\t\tHDFS: Number of bytes written=70551\n",
      "\t\tHDFS: Number of read operations=12\n",
      "\t\tHDFS: Number of large read operations=0\n",
      "\t\tHDFS: Number of write operations=4\n",
      "\tJob Counters \n",
      "\t\tLaunched map tasks=2\n",
      "\t\tLaunched reduce tasks=2\n",
      "\t\tData-local map tasks=2\n",
      "\t\tTotal time spent by all maps in occupied slots (ms)=6496\n",
      "\t\tTotal time spent by all reduces in occupied slots (ms)=6734\n",
      "\t\tTotal time spent by all map tasks (ms)=6496\n",
      "\t\tTotal time spent by all reduce tasks (ms)=6734\n",
      "\t\tTotal vcore-milliseconds taken by all map tasks=6496\n",
      "\t\tTotal vcore-milliseconds taken by all reduce tasks=6734\n",
      "\t\tTotal megabyte-milliseconds taken by all map tasks=6651904\n",
      "\t\tTotal megabyte-milliseconds taken by all reduce tasks=6895616\n",
      "\tMap-Reduce Framework\n",
      "\t\tMap input records=100\n",
      "\t\tMap output records=31490\n",
      "\t\tMap output bytes=306018\n",
      "\t\tMap output materialized bytes=369022\n",
      "\t\tInput split bytes=214\n",
      "\t\tCombine input records=0\n",
      "\t\tCombine output records=0\n",
      "\t\tReduce input groups=5065\n",
      "\t\tReduce shuffle bytes=369022\n",
      "\t\tReduce input records=31490\n",
      "\t\tReduce output records=6060\n",
      "\t\tSpilled Records=62980\n",
      "\t\tShuffled Maps =4\n",
      "\t\tFailed Shuffles=0\n",
      "\t\tMerged Map outputs=4\n",
      "\t\tGC time elapsed (ms)=140\n",
      "\t\tCPU time spent (ms)=5130\n",
      "\t\tPhysical memory (bytes) snapshot=1042198528\n",
      "\t\tVirtual memory (bytes) snapshot=5504118784\n",
      "\t\tTotal committed heap usage (bytes)=1140850688\n",
      "\tShuffle Errors\n",
      "\t\tBAD_ID=0\n",
      "\t\tCONNECTION=0\n",
      "\t\tIO_ERROR=0\n",
      "\t\tWRONG_LENGTH=0\n",
      "\t\tWRONG_MAP=0\n",
      "\t\tWRONG_REDUCE=0\n",
      "\tFile Input Format Counters \n",
      "\t\tBytes Read=216847\n",
      "\tFile Output Format Counters \n",
      "\t\tBytes Written=70551\n",
      "20/05/24 20:42:53 INFO streaming.StreamJob: Output directory: /user/root/HW2//eda-output\n"
     ]
    }
   ],
   "source": [
    "# part a - Hadoop streaming job (RUN THIS CELL AS IS)\n",
    "!hdfs dfs -rm -r {HDFS_DIR}/eda-output\n",
    "!hadoop jar {JAR_FILE} \\\n",
    "  -files EnronEDA/reducer.py,EnronEDA/mapper.py \\\n",
    "  -mapper mapper.py \\\n",
    "  -reducer reducer.py \\\n",
    "  -input {HDFS_DIR}/enron.txt \\\n",
    "  -output {HDFS_DIR}/eda-output \\\n",
    "  -numReduceTasks 2 \\\n",
    "  -cmdenv PATH={PATH}"
   ]
  },
  {
   "cell_type": "code",
   "execution_count": 79,
   "metadata": {},
   "outputs": [],
   "source": [
    "# part a - retrieve results from HDFS & copy them into a local file (RUN THIS CELL AS IS)\n",
    "!hdfs dfs -cat {HDFS_DIR}/eda-output/part-0000* > EnronEDA/results.txt"
   ]
  },
  {
   "cell_type": "code",
   "execution_count": 80,
   "metadata": {},
   "outputs": [
    {
     "name": "stdout",
     "output_type": "stream",
     "text": [
      "assistance\t1\t8\n",
      "assistance\t0\t2\n"
     ]
    }
   ],
   "source": [
    "# part b - write your grep command here\n",
    "!grep 'assistance' EnronEDA/results.txt"
   ]
  },
  {
   "cell_type": "code",
   "execution_count": 23,
   "metadata": {},
   "outputs": [
    {
     "name": "stdout",
     "output_type": "stream",
     "text": [
      "rm: `/user/root/HW2//eda-sort-output': No such file or directory\n"
     ]
    }
   ],
   "source": [
    "# part d - clear the output directory in HDFS (RUN THIS CELL AS IS)\n",
    "!hdfs dfs -rm -r {HDFS_DIR}/eda-sort-output"
   ]
  },
  {
   "cell_type": "code",
   "execution_count": 128,
   "metadata": {},
   "outputs": [
    {
     "name": "stdout",
     "output_type": "stream",
     "text": [
      "Deleted /user/root/HW2/eda-sort-output\n",
      "packageJobJar: [] [/usr/lib/hadoop-mapreduce/hadoop-streaming-2.6.0-cdh5.16.2.jar] /tmp/streamjob6967199442736188693.jar tmpDir=null\n",
      "20/05/24 20:59:10 INFO client.RMProxy: Connecting to ResourceManager at /0.0.0.0:8032\n",
      "20/05/24 20:59:10 INFO client.RMProxy: Connecting to ResourceManager at /0.0.0.0:8032\n",
      "20/05/24 20:59:10 INFO mapred.FileInputFormat: Total input paths to process : 2\n",
      "20/05/24 20:59:10 INFO mapreduce.JobSubmitter: number of splits:2\n",
      "20/05/24 20:59:10 INFO mapreduce.JobSubmitter: Submitting tokens for job: job_1590343423886_0043\n",
      "20/05/24 20:59:11 INFO impl.YarnClientImpl: Submitted application application_1590343423886_0043\n",
      "20/05/24 20:59:11 INFO mapreduce.Job: The url to track the job: http://docker.w261:8088/proxy/application_1590343423886_0043/\n",
      "20/05/24 20:59:11 INFO mapreduce.Job: Running job: job_1590343423886_0043\n",
      "20/05/24 20:59:17 INFO mapreduce.Job: Job job_1590343423886_0043 running in uber mode : false\n",
      "20/05/24 20:59:17 INFO mapreduce.Job:  map 0% reduce 0%\n",
      "20/05/24 20:59:23 INFO mapreduce.Job:  map 50% reduce 0%\n",
      "20/05/24 20:59:24 INFO mapreduce.Job:  map 100% reduce 0%\n",
      "20/05/24 20:59:29 INFO mapreduce.Job:  map 100% reduce 100%\n",
      "20/05/24 20:59:29 INFO mapreduce.Job: Job job_1590343423886_0043 completed successfully\n",
      "20/05/24 20:59:29 INFO mapreduce.Job: Counters: 49\n",
      "\tFile System Counters\n",
      "\t\tFILE: Number of bytes read=88737\n",
      "\t\tFILE: Number of bytes written=622736\n",
      "\t\tFILE: Number of read operations=0\n",
      "\t\tFILE: Number of large read operations=0\n",
      "\t\tFILE: Number of write operations=0\n",
      "\t\tHDFS: Number of bytes read=70789\n",
      "\t\tHDFS: Number of bytes written=76611\n",
      "\t\tHDFS: Number of read operations=9\n",
      "\t\tHDFS: Number of large read operations=0\n",
      "\t\tHDFS: Number of write operations=2\n",
      "\tJob Counters \n",
      "\t\tLaunched map tasks=2\n",
      "\t\tLaunched reduce tasks=1\n",
      "\t\tData-local map tasks=2\n",
      "\t\tTotal time spent by all maps in occupied slots (ms)=6276\n",
      "\t\tTotal time spent by all reduces in occupied slots (ms)=3053\n",
      "\t\tTotal time spent by all map tasks (ms)=6276\n",
      "\t\tTotal time spent by all reduce tasks (ms)=3053\n",
      "\t\tTotal vcore-milliseconds taken by all map tasks=6276\n",
      "\t\tTotal vcore-milliseconds taken by all reduce tasks=3053\n",
      "\t\tTotal megabyte-milliseconds taken by all map tasks=6426624\n",
      "\t\tTotal megabyte-milliseconds taken by all reduce tasks=3126272\n",
      "\tMap-Reduce Framework\n",
      "\t\tMap input records=6060\n",
      "\t\tMap output records=6060\n",
      "\t\tMap output bytes=76611\n",
      "\t\tMap output materialized bytes=88743\n",
      "\t\tInput split bytes=238\n",
      "\t\tCombine input records=0\n",
      "\t\tCombine output records=0\n",
      "\t\tReduce input groups=6060\n",
      "\t\tReduce shuffle bytes=88743\n",
      "\t\tReduce input records=6060\n",
      "\t\tReduce output records=6060\n",
      "\t\tSpilled Records=12120\n",
      "\t\tShuffled Maps =2\n",
      "\t\tFailed Shuffles=0\n",
      "\t\tMerged Map outputs=2\n",
      "\t\tGC time elapsed (ms)=77\n",
      "\t\tCPU time spent (ms)=3180\n",
      "\t\tPhysical memory (bytes) snapshot=797777920\n",
      "\t\tVirtual memory (bytes) snapshot=4138008576\n",
      "\t\tTotal committed heap usage (bytes)=822607872\n",
      "\tShuffle Errors\n",
      "\t\tBAD_ID=0\n",
      "\t\tCONNECTION=0\n",
      "\t\tIO_ERROR=0\n",
      "\t\tWRONG_LENGTH=0\n",
      "\t\tWRONG_MAP=0\n",
      "\t\tWRONG_REDUCE=0\n",
      "\tFile Input Format Counters \n",
      "\t\tBytes Read=70551\n",
      "\tFile Output Format Counters \n",
      "\t\tBytes Written=76611\n",
      "20/05/24 20:59:29 INFO streaming.StreamJob: Output directory: /user/root/HW2//eda-sort-output\n"
     ]
    }
   ],
   "source": [
    "# part d - write your Hadoop streaming job here\n",
    "!hdfs dfs -rm -r {HDFS_DIR}/eda-sort-output\n",
    "!hadoop jar {JAR_FILE} \\\n",
    "  -D stream.num.map.output.key.fields=3 \\\n",
    "  -D mapreduce.job.output.key.comparator.class=org.apache.hadoop.mapred.lib.KeyFieldBasedComparator \\\n",
    "  -D mapreduce.partition.keycomparator.options=\"-k2,2n -k3,3nr\" \\\n",
    "  -mapper /bin/cat \\\n",
    "  -reducer /bin/cat \\\n",
    "  -input {HDFS_DIR}/eda-output/part-0000* \\\n",
    "  -output {HDFS_DIR}/eda-sort-output \\\n",
    "  -numReduceTasks 1 \\\n",
    "  -cmdenv PATH={PATH}"
   ]
  },
  {
   "cell_type": "code",
   "execution_count": 129,
   "metadata": {},
   "outputs": [
    {
     "name": "stdout",
     "output_type": "stream",
     "text": [
      "the\t0\t549\t\n",
      "to\t0\t398\t\n",
      "ect\t0\t382\t\n",
      "and\t0\t278\t\n",
      "of\t0\t230\t\n",
      "hou\t0\t206\t\n",
      "a\t0\t196\t\n",
      "in\t0\t182\t\n",
      "for\t0\t170\t\n",
      "on\t0\t135\t\n",
      "cat: Unable to write to output stream.\n"
     ]
    }
   ],
   "source": [
    "# part d - Check the secondary sort output data\n",
    "!hdfs dfs -cat {HDFS_DIR}/eda-sort-output/part-0000* | head"
   ]
  },
  {
   "cell_type": "code",
   "execution_count": null,
   "metadata": {},
   "outputs": [],
   "source": [
    "# part e - clear the output directory in HDFS (RUN THIS CELL AS IS)\n",
    "!hdfs dfs -rm -r {HDFS_DIR}/eda-sort-output"
   ]
  },
  {
   "cell_type": "code",
   "execution_count": 139,
   "metadata": {},
   "outputs": [
    {
     "name": "stdout",
     "output_type": "stream",
     "text": [
      "Deleted /user/root/HW2/eda-sort-output\n",
      "packageJobJar: [] [/usr/lib/hadoop-mapreduce/hadoop-streaming-2.6.0-cdh5.16.2.jar] /tmp/streamjob8836651086639902793.jar tmpDir=null\n",
      "20/05/24 21:21:28 INFO client.RMProxy: Connecting to ResourceManager at /0.0.0.0:8032\n",
      "20/05/24 21:21:28 INFO client.RMProxy: Connecting to ResourceManager at /0.0.0.0:8032\n",
      "20/05/24 21:21:29 INFO mapred.FileInputFormat: Total input paths to process : 2\n",
      "20/05/24 21:21:29 INFO mapreduce.JobSubmitter: number of splits:2\n",
      "20/05/24 21:21:29 INFO mapreduce.JobSubmitter: Submitting tokens for job: job_1590343423886_0049\n",
      "20/05/24 21:21:29 INFO impl.YarnClientImpl: Submitted application application_1590343423886_0049\n",
      "20/05/24 21:21:29 INFO mapreduce.Job: The url to track the job: http://docker.w261:8088/proxy/application_1590343423886_0049/\n",
      "20/05/24 21:21:29 INFO mapreduce.Job: Running job: job_1590343423886_0049\n",
      "20/05/24 21:21:35 INFO mapreduce.Job: Job job_1590343423886_0049 running in uber mode : false\n",
      "20/05/24 21:21:35 INFO mapreduce.Job:  map 0% reduce 0%\n",
      "20/05/24 21:21:40 INFO mapreduce.Job:  map 50% reduce 0%\n",
      "20/05/24 21:21:41 INFO mapreduce.Job:  map 100% reduce 0%\n",
      "20/05/24 21:21:46 INFO mapreduce.Job:  map 100% reduce 50%\n",
      "20/05/24 21:21:47 INFO mapreduce.Job:  map 100% reduce 100%\n",
      "20/05/24 21:21:47 INFO mapreduce.Job: Job job_1590343423886_0049 completed successfully\n",
      "20/05/24 21:21:47 INFO mapreduce.Job: Counters: 49\n",
      "\tFile System Counters\n",
      "\t\tFILE: Number of bytes read=88743\n",
      "\t\tFILE: Number of bytes written=772684\n",
      "\t\tFILE: Number of read operations=0\n",
      "\t\tFILE: Number of large read operations=0\n",
      "\t\tFILE: Number of write operations=0\n",
      "\t\tHDFS: Number of bytes read=70789\n",
      "\t\tHDFS: Number of bytes written=76611\n",
      "\t\tHDFS: Number of read operations=12\n",
      "\t\tHDFS: Number of large read operations=0\n",
      "\t\tHDFS: Number of write operations=4\n",
      "\tJob Counters \n",
      "\t\tLaunched map tasks=2\n",
      "\t\tLaunched reduce tasks=2\n",
      "\t\tData-local map tasks=2\n",
      "\t\tTotal time spent by all maps in occupied slots (ms)=6318\n",
      "\t\tTotal time spent by all reduces in occupied slots (ms)=6570\n",
      "\t\tTotal time spent by all map tasks (ms)=6318\n",
      "\t\tTotal time spent by all reduce tasks (ms)=6570\n",
      "\t\tTotal vcore-milliseconds taken by all map tasks=6318\n",
      "\t\tTotal vcore-milliseconds taken by all reduce tasks=6570\n",
      "\t\tTotal megabyte-milliseconds taken by all map tasks=6469632\n",
      "\t\tTotal megabyte-milliseconds taken by all reduce tasks=6727680\n",
      "\tMap-Reduce Framework\n",
      "\t\tMap input records=6060\n",
      "\t\tMap output records=6060\n",
      "\t\tMap output bytes=76611\n",
      "\t\tMap output materialized bytes=88755\n",
      "\t\tInput split bytes=238\n",
      "\t\tCombine input records=0\n",
      "\t\tCombine output records=0\n",
      "\t\tReduce input groups=6060\n",
      "\t\tReduce shuffle bytes=88755\n",
      "\t\tReduce input records=6060\n",
      "\t\tReduce output records=6060\n",
      "\t\tSpilled Records=12120\n",
      "\t\tShuffled Maps =4\n",
      "\t\tFailed Shuffles=0\n",
      "\t\tMerged Map outputs=4\n",
      "\t\tGC time elapsed (ms)=149\n",
      "\t\tCPU time spent (ms)=4290\n",
      "\t\tPhysical memory (bytes) snapshot=1040318464\n",
      "\t\tVirtual memory (bytes) snapshot=5497692160\n",
      "\t\tTotal committed heap usage (bytes)=1206910976\n",
      "\tShuffle Errors\n",
      "\t\tBAD_ID=0\n",
      "\t\tCONNECTION=0\n",
      "\t\tIO_ERROR=0\n",
      "\t\tWRONG_LENGTH=0\n",
      "\t\tWRONG_MAP=0\n",
      "\t\tWRONG_REDUCE=0\n",
      "\tFile Input Format Counters \n",
      "\t\tBytes Read=70551\n",
      "\tFile Output Format Counters \n",
      "\t\tBytes Written=76611\n",
      "20/05/24 21:21:47 INFO streaming.StreamJob: Output directory: /user/root/HW2//eda-sort-output\n"
     ]
    }
   ],
   "source": [
    "# part e - write your Hadoop streaming job here\n",
    "!hdfs dfs -rm -r {HDFS_DIR}/eda-sort-output\n",
    "!hadoop jar {JAR_FILE} \\-D stream.num.map.output.key.fields=3 \\\n",
    "  -D mapreduce.job.output.key.comparator.class=org.apache.hadoop.mapred.lib.KeyFieldBasedComparator \\\n",
    "  -D mapreduce.partition.keycomparator.options=\"-k3,3nr\" \\\n",
    "  -D mapreduce.partition.keypartitioner.options=\"-k2,2\"  \\\n",
    "  -mapper /bin/cat \\\n",
    "  -reducer /bin/cat \\\n",
    "  -partitioner org.apache.hadoop.mapred.lib.KeyFieldBasedPartitioner \\\n",
    "  -input {HDFS_DIR}/eda-output/part-0000* \\\n",
    "  -output {HDFS_DIR}/eda-sort-output \\\n",
    "  -cmdenv PATH={PATH} \\\n",
    "  -numReduceTasks 2"
   ]
  },
  {
   "cell_type": "code",
   "execution_count": 140,
   "metadata": {},
   "outputs": [
    {
     "name": "stdout",
     "output_type": "stream",
     "text": [
      "\n",
      "===== part-00000=====\n",
      "\n",
      "the\t0\t549\t\n",
      "to\t0\t398\t\n",
      "ect\t0\t382\t\n",
      "and\t0\t278\t\n",
      "of\t0\t230\t\n",
      "hou\t0\t206\t\n",
      "a\t0\t196\t\n",
      "in\t0\t182\t\n",
      "for\t0\t170\t\n",
      "on\t0\t135\t\n",
      "cat: Unable to write to output stream.\n",
      "\n",
      "===== part-00001=====\n",
      "\n",
      "the\t1\t698\t\n",
      "to\t1\t566\t\n",
      "and\t1\t392\t\n",
      "your\t1\t357\t\n",
      "a\t1\t347\t\n",
      "you\t1\t345\t\n",
      "of\t1\t336\t\n",
      "in\t1\t236\t\n",
      "for\t1\t204\t\n",
      "com\t1\t153\t\n",
      "cat: Unable to write to output stream.\n"
     ]
    }
   ],
   "source": [
    "# part e - view the top 10 records from each partition (RUN THIS CELL AS IS)\n",
    "for idx in range(2):\n",
    "    print(f\"\\n===== part-0000{idx}=====\\n\")\n",
    "    !hdfs dfs -cat {HDFS_DIR}/eda-sort-output/part-0000{idx} | head"
   ]
  },
  {
   "cell_type": "markdown",
   "metadata": {},
   "source": [
    "__Expected output:__\n",
    "<table>\n",
    "<th>part-00000:</th>\n",
    "<th>part-00001:</th>\n",
    "<tr><td><pre>\n",
    "the\t0\t549\t\n",
    "to\t0\t398\t\n",
    "ect\t0\t382\t\n",
    "and\t0\t278\t\n",
    "of\t0\t230\t\n",
    "hou\t0\t206\t\n",
    "a\t0\t196\t\n",
    "in\t0\t182\t\n",
    "for\t0\t170\t\n",
    "on\t0\t135\n",
    "</pre></td>\n",
    "<td><pre>\n",
    "the\t1\t698\t\n",
    "to\t1\t566\t\n",
    "and\t1\t392\t\n",
    "your\t1\t357\t\n",
    "a\t1\t347\t\n",
    "you\t1\t345\t\n",
    "of\t1\t336\t\n",
    "in\t1\t236\t\n",
    "for\t1\t204\t\n",
    "com\t1\t153\n",
    "</pre></td></tr>\n",
    "</table>"
   ]
  },
  {
   "cell_type": "markdown",
   "metadata": {},
   "source": [
    "# Question 5: Counters and Combiners.\n",
    "Tuning the number of mappers & reducers is helpful to optimize very large distributed computations. Doing so successfully requires a thorough understanding of the data size at each stage of the job. As you learned in the week3 live session, counters are an invaluable resource for understanding this kind of detail. In this question, we will take the EDA performed in Question 4 as an opportunity to illustrate some related concepts.\n",
    "\n",
    "### Q5 Tasks:\n",
    "* __a) short response:__ Read the Hadoop output from your job in Question 4a to report how many records are emitted by the mappers and how many records are received be the reducers. In the context of word counting what does this number represent practically?\n",
    "\n",
    "* __b) code:__ Note that we wrote the reducer in question 4a such that the input and output record format is identical. This makes it easy to use the same reducer script as a combiner. In the space provided below, write the Hadoop Streaming command to re-run your job from question 4a with this combining added.\n",
    "\n",
    "* __c) short response__: Report the number of records emitted by your mappers in part b and the number of records received by your reducers. Compare your results here to what you saw in part a. Explain.\n",
    "\n",
    "* __d) short response__: Describe a scenario where using a combiner would _NOT_ improve the efficiency of the shuffle stage. Explain. [__`BONUS:`__ how does increasing the number of mappers affect the usefulness of a combiner?]"
   ]
  },
  {
   "cell_type": "markdown",
   "metadata": {},
   "source": [
    "### Q5 Student Answers:\n",
    "> __a)__ From Question 4a, there are 31490 records emitted by the mapper and same number of records are recieved in reducers. There is only 4MB for this file, and if we consider the total english vocabulary, I think it still can handle it. \n",
    "\n",
    "> __c)__ The mapper output record is still the same as before 31490, but the Reduce input records=7648, which is significantly less than before. This is because the combiner is doing the aggregation to merge the the mapper output data and then output to reducer. \n",
    "\n",
    "> __d)__ When there are too many mappers, the amount of vocabulary in each mapper cannot be locally aggregated, then the combiner is waste of time by doing the local aggregation. A combiner would not improve the efficiency of the shuffle stage if the number of mappers equaled the number of tasks."
   ]
  },
  {
   "cell_type": "code",
   "execution_count": null,
   "metadata": {},
   "outputs": [],
   "source": [
    "# part b - clear output directory in HDFS (RUN THIS CELL AS IS)\n",
    "!hdfs dfs -rm -r {HDFS_DIR}/eda-output"
   ]
  },
  {
   "cell_type": "code",
   "execution_count": 141,
   "metadata": {},
   "outputs": [
    {
     "name": "stdout",
     "output_type": "stream",
     "text": [
      "Deleted /user/root/HW2/eda-output\n",
      "packageJobJar: [] [/usr/lib/hadoop-mapreduce/hadoop-streaming-2.6.0-cdh5.16.2.jar] /tmp/streamjob4587800431838873513.jar tmpDir=null\n",
      "20/05/24 21:29:24 INFO client.RMProxy: Connecting to ResourceManager at /0.0.0.0:8032\n",
      "20/05/24 21:29:24 INFO client.RMProxy: Connecting to ResourceManager at /0.0.0.0:8032\n",
      "20/05/24 21:29:25 INFO mapred.FileInputFormat: Total input paths to process : 1\n",
      "20/05/24 21:29:25 INFO mapreduce.JobSubmitter: number of splits:2\n",
      "20/05/24 21:29:25 INFO mapreduce.JobSubmitter: Submitting tokens for job: job_1590343423886_0050\n",
      "20/05/24 21:29:25 INFO impl.YarnClientImpl: Submitted application application_1590343423886_0050\n",
      "20/05/24 21:29:25 INFO mapreduce.Job: The url to track the job: http://docker.w261:8088/proxy/application_1590343423886_0050/\n",
      "20/05/24 21:29:25 INFO mapreduce.Job: Running job: job_1590343423886_0050\n",
      "20/05/24 21:29:31 INFO mapreduce.Job: Job job_1590343423886_0050 running in uber mode : false\n",
      "20/05/24 21:29:31 INFO mapreduce.Job:  map 0% reduce 0%\n",
      "20/05/24 21:29:36 INFO mapreduce.Job:  map 50% reduce 0%\n",
      "20/05/24 21:29:37 INFO mapreduce.Job:  map 100% reduce 0%\n",
      "20/05/24 21:29:42 INFO mapreduce.Job:  map 100% reduce 50%\n",
      "20/05/24 21:29:43 INFO mapreduce.Job:  map 100% reduce 100%\n",
      "20/05/24 21:29:43 INFO mapreduce.Job: Job job_1590343423886_0050 completed successfully\n",
      "20/05/24 21:29:43 INFO mapreduce.Job: Counters: 50\n",
      "\tFile System Counters\n",
      "\t\tFILE: Number of bytes read=102833\n",
      "\t\tFILE: Number of bytes written=806012\n",
      "\t\tFILE: Number of read operations=0\n",
      "\t\tFILE: Number of large read operations=0\n",
      "\t\tFILE: Number of write operations=0\n",
      "\t\tHDFS: Number of bytes read=217061\n",
      "\t\tHDFS: Number of bytes written=70551\n",
      "\t\tHDFS: Number of read operations=12\n",
      "\t\tHDFS: Number of large read operations=0\n",
      "\t\tHDFS: Number of write operations=4\n",
      "\tJob Counters \n",
      "\t\tKilled reduce tasks=1\n",
      "\t\tLaunched map tasks=2\n",
      "\t\tLaunched reduce tasks=2\n",
      "\t\tData-local map tasks=2\n",
      "\t\tTotal time spent by all maps in occupied slots (ms)=6774\n",
      "\t\tTotal time spent by all reduces in occupied slots (ms)=6554\n",
      "\t\tTotal time spent by all map tasks (ms)=6774\n",
      "\t\tTotal time spent by all reduce tasks (ms)=6554\n",
      "\t\tTotal vcore-milliseconds taken by all map tasks=6774\n",
      "\t\tTotal vcore-milliseconds taken by all reduce tasks=6554\n",
      "\t\tTotal megabyte-milliseconds taken by all map tasks=6936576\n",
      "\t\tTotal megabyte-milliseconds taken by all reduce tasks=6711296\n",
      "\tMap-Reduce Framework\n",
      "\t\tMap input records=100\n",
      "\t\tMap output records=31490\n",
      "\t\tMap output bytes=306018\n",
      "\t\tMap output materialized bytes=102845\n",
      "\t\tInput split bytes=214\n",
      "\t\tCombine input records=31490\n",
      "\t\tCombine output records=7648\n",
      "\t\tReduce input groups=5065\n",
      "\t\tReduce shuffle bytes=102845\n",
      "\t\tReduce input records=7648\n",
      "\t\tReduce output records=6060\n",
      "\t\tSpilled Records=15296\n",
      "\t\tShuffled Maps =4\n",
      "\t\tFailed Shuffles=0\n",
      "\t\tMerged Map outputs=4\n",
      "\t\tGC time elapsed (ms)=135\n",
      "\t\tCPU time spent (ms)=4990\n",
      "\t\tPhysical memory (bytes) snapshot=1046188032\n",
      "\t\tVirtual memory (bytes) snapshot=5528055808\n",
      "\t\tTotal committed heap usage (bytes)=1140850688\n",
      "\tShuffle Errors\n",
      "\t\tBAD_ID=0\n",
      "\t\tCONNECTION=0\n",
      "\t\tIO_ERROR=0\n",
      "\t\tWRONG_LENGTH=0\n",
      "\t\tWRONG_MAP=0\n",
      "\t\tWRONG_REDUCE=0\n",
      "\tFile Input Format Counters \n",
      "\t\tBytes Read=216847\n",
      "\tFile Output Format Counters \n",
      "\t\tBytes Written=70551\n",
      "20/05/24 21:29:43 INFO streaming.StreamJob: Output directory: /user/root/HW2//eda-output\n"
     ]
    }
   ],
   "source": [
    "# part b - write your Hadoop streaming job here\n",
    "!hdfs dfs -rm -r {HDFS_DIR}/eda-output\n",
    "!hadoop jar {JAR_FILE} \\\n",
    "  -files EnronEDA/reducer.py,EnronEDA/mapper.py,EnronEDA/combiner.py \\\n",
    "  -mapper mapper.py \\\n",
    "  -combiner combiner.py \\\n",
    "  -reducer reducer.py \\\n",
    "  -input {HDFS_DIR}/enron.txt \\\n",
    "  -output {HDFS_DIR}/eda-output \\\n",
    "  -numReduceTasks 2 \\\n",
    "  -cmdenv PATH={PATH}"
   ]
  },
  {
   "cell_type": "markdown",
   "metadata": {},
   "source": [
    "# Question 6: Document Classification Task Overview.\n",
    "The week 2 assigned reading from Chapter 13 of _Introduction to Information Retrieval_ by Manning, Raghavan and Schutze provides a thorough introduction to the document classification task and the math behind Naive Bayes. In this question we'll use the example from Table 13.1 (reproduced below) to 'train' an unsmoothed Multinomial Naive Bayes model and classify a test document by hand.\n",
    "\n",
    "<table>\n",
    "<th>DocID</th>\n",
    "<th>Class</th>\n",
    "<th>Subject</th>\n",
    "<th>Body</th>\n",
    "<tr><td>Doc1</td><td>1</td><td></td><td>Chinese Beijing Chinese</td></tr>\n",
    "<tr><td>Doc2</td><td>1</td><td></td><td>Chinese Chinese Shanghai</td></tr>\n",
    "<tr><td>Doc3</td><td>1</td><td></td><td>Chinese Macao</td></tr>\n",
    "<tr><td>Doc4</td><td>0</td><td></td><td>Tokyo Japan Chinese</td></tr>\n",
    "</table>\n",
    "\n",
    "### Q6 Tasks:\n",
    "* __a) short response:__ Equation 13.3 in Manning, Raghavan and Shutze shows how a Multinomial Naive Bayes model classifies a document. It predicts the class, $c$, for which the estimated conditional probability of the class given the document's contents,  $\\hat{P}(c|d)$, is greatest. In this equation what two pieces of information are required to calculate  $\\hat{P}(c|d)$? Your answer should include both mathematical notatation and verbal explanation.\n",
    "\n",
    "\n",
    "* __b) short response:__ The Enron data includes two classes of documents: `spam` and `ham` (they're actually labeled `1` and `0`). In plain English, explain what  $\\hat{P}(c)$ and   $\\hat{P}(t_{k} | c)$ mean in the context of this data. How will we would estimate these values from a training corpus? How many passes over the data would we need to make to retrieve this information for all classes and all words?\n",
    "\n",
    "\n",
    "* __c) hand calculations:__ Above we've reproduced the document classification example from the textbook (we added an empty subject field to mimic the Enron data format). Remember that the classes in this \"Chinese Example\" are `1` (about China) and `0` (not about China). Calculate the class priors and the conditional probabilities for an __unsmoothed__ Multinomial Naive Bayes model trained on this data. Show the calculations that lead to your result using markdown and $\\LaTeX$ in the space provided or by embedding an image of your hand written work. [`NOTE:` _Your results should NOT match those in the text -- they are training a model with +1 smoothing you are training a model without smoothing_]\n",
    "\n",
    "\n",
    "* __d) hand calculations:__ Use the model you trained to classify the following test document: `Chinese Chinese Chinese Tokyo Japan`. Show the calculations that lead to your result using markdown and   $\\LaTeX$ in the space provided or by embedding an image of your hand written work.\n",
    "\n",
    "\n",
    "* __e) short response:__ Compare the classification you get from this unsmoothed model in `d`/`e` to the results in the textbook's \"Example 1\" which reflects a model with Laplace plus 1 smoothing. How does smoothing affect our inference?"
   ]
  },
  {
   "cell_type": "markdown",
   "metadata": {},
   "source": [
    "### Q6 Student Answers:\n",
    "> __a)__ It requires: the $\\hat{P}(c)$, which is the estimated probability of each class count over the total class count from the training set; the $\\hat{P}(t_k|c)$, which is is the conditional probability of each term $t_k$ occurring in a document of class c.\n",
    "\n",
    "> __b)__ If we set the c is the spam class, then the $\\hat{P}(c)$ means the total count of spam class documents over the total count of both classes documents. The $\\hat{P}(t_k|c)$ means conditional probability of $t_k$ occuring in a class c document, indicating how good an token $t_k$ is for class c. We can get both values by counting the number of each token $t_k$ for both class 1 and 0 to get the conditional probability; and get the $\\hat{P}(c)$ by counting the class 1 and class 2 document numbers over the total document numbers. Ideally, we can retrieve this information for all classes and all words by one pass over the data.\n",
    "\n",
    "> __c)__ We know the $\\hat{P}(1) = 3/4$ and $\\hat{P}(0) = 1/4$ from the class count. $N_{total} = 4 \\space documents, N_{c=1} = 3 \\space documents, N_{c=1, terms} = 8, N_{c=0, terms} = 3 $\n",
    "\n",
    "> From counting each words, we know under class 1, the word Chinese appeared 5 times and the total words in class 1 is 8, therefore, same logic we have:\n",
    "$$ \\hat{P}(Chinese|1) = 5/8$$ $$ \\hat{P}(Tokyo|1) = \\hat{P}(Japanese|1) = 0$$ $$ \\hat{P}(Beijing|1) = \\hat{P}(Shanghai|1) = \\hat{P}(Maco|1) = 1/8$$\n",
    "$$ \\hat{P}(Chinese|0) =\\hat{P}(Tokyo|0) =\\hat{P}(Japan|0) = 1/3$$\n",
    "\n",
    "> __d)__ Since we got all the prior and conditional probabilities. For the testing set, we have 5 words: 3 Chinese, 1 Tokyo, 1 Japan, therefore to calculate $\\hat{P}(1|d_5)$ and $\\hat{P}(0|d_5)$, we have:\n",
    "\n",
    "$$ \\hat{P}(1|d_5) = 3/4 * (5/8)^3 * 0* 0 = 0 $$\n",
    "$$ \\hat{P}(0|d_5) = 1/4 * (1/3)^3 * 1/3* 1/3 = 0.001$$ \n",
    "\n",
    "> __e)__ As we can see from 6d, the classification of testing set will be class 0 without the +1 smoothing, due to the 0 conditional probability of words that did not appear in certain classes. In the textbook's Example, we see the classification will be 1 since there are 3 chineses and only 2 japanese related words appeared in the testing set and Chinese weight should be higher than the Japanese weight. The +1 smoothing can make sure that the probability will not be 0 even if the words in testing set did not appear in training set, therefore, it can predict the answer correctly. \n"
   ]
  },
  {
   "cell_type": "code",
   "execution_count": null,
   "metadata": {},
   "outputs": [],
   "source": [
    "# part d/e - if you didn't write out your calcuations above, embed a picture of them here:\n",
    "from IPython.display import Image\n",
    "Image(filename=\"path-to-hand-calulations-image.png\")"
   ]
  },
  {
   "cell_type": "markdown",
   "metadata": {},
   "source": [
    "# Question 7: Naive Bayes Inference.\n",
    "In the next two questions you'll write code to parallelize the Naive Bayes calculations that you performed above. We'll do this in two phases: one MapReduce job to perform training and a second MapReduce to perform inference. While in practice we'd need to train a model before we can use it to classify documents, for learning purposes we're going to develop our code in the opposite order. By first focusing on the pieces of information/format we need to perform the classification (inference) task you should find it easier to develop a solid implementation for training phase when you get to question 8 below. In both of these questions we'll continue to use the Chinese example corpus from the textbook to help us test our MapReduce code as we develop it. Below we've reproduced the corpus, test set and model in text format that matches the Enron data.\n",
    "\n",
    "### Q7 Tasks:\n",
    "* __a) short response:__ run the provided cells to create the example files and load them in to HDFS. Then take a closer look at __`NBmodel.txt`__. This text file represents a Naive Bayes model trained (with Laplace +1 smoothing) on the example corpus. What are the 'keys' and 'values' in this file? Which record means something slightly different than the rest? The value field of each record includes two numbers which will be helpful for debugging but which we don't actually need to perform inference -- what are they? [`HINT`: _This file represents the model from Example 13.1 in the textbook, if you're having trouble getting oriented try comparing our file to the numbers in that example._]\n",
    "\n",
    "\n",
    "* __b) short response:__ When performing Naive Bayes in practice instead of multiplying the probabilities (as in equation 13.3) we add their logs (as in equation 13.4). Why do we choose to work with log probabilities? If we had an unsmoothed model, what potential error could arise from this transformation?\n",
    "\n",
    "\n",
    "* __c) short response:__ Documents 6 and 8 in the test set include a word that did not appear in the training corpus (and as a result does not appear in the model). What should we do at inference time when we need a class conditional probability for this word?\n",
    "\n",
    "\n",
    "* __d) short response:__ The goal of our MapReduce job is to stream over the test set and classify each document by peforming the calculation from equation 13.4. To do this we'll load the model file (which contains the probabilities for equation 13.4) into memory on the nodes where we do our mapping. This is called an in-memory join. Does loading a model 'state' like this depart from the functional programming principles? Explain why or why not. From a scability perspective when would this kind of memory use be justified? when would it be unwise?\n",
    "\n",
    "\n",
    "* __e) code:__ Complete the code in __`NaiveBayes/classify_mapper.py`__. Read the docstring carefully to understand how this script should work and the format it should return. Run the provided unit tests to confirm that your script works as expected then write a Hadoop streaming job to classify the Chinese example test set. [`HINT 1:` _you shouldn't need a reducer for this one._ `HINT 2:` _Don't forget to add the model file to the_ `-files` _parameter in your Hadoop streaming job so that it gets shipped to the mapper nodes where it will be accessed by your script._]\n",
    "\n",
    "\n",
    "* __f) short response:__ In our test example and in the Enron data set we have fairly short documents. Since these fit fine in memory on a mapper node we didn't need a reducer and could just do all of our calculations in the mapper. However with much longer documents (eg. books) we might want a higher level of parallelization -- for example we might want to process parts of a document on different nodes. In this hypothetical scenario how would our algorithm design change? What could the mappers still do? What key-value structure would they emit? What would the reducers have to do as a last step?"
   ]
  },
  {
   "cell_type": "markdown",
   "metadata": {},
   "source": [
    "### Q7 Student Answers:\n",
    "> __a)__ For each row, the word is the key; the first value is the number of the token appeared in class 0, the second value is the number of the token appeared in class 1;The third value is the conditional probaibility with +1 smoothing of the token appeared in class 0, the last value is the conditional probaibility with +1 smoothing of the token appeared in class 1. The number count is helpful for debugging but we don't actually need to perform inference\n",
    "\n",
    "> __b)__ The log probabilities can prevent result in a floating point underflow since most of the conditional probabilities are small. If we did not use smoothed model, the value of log(0) will be invalid. \n",
    "\n",
    "> __c)__ We should give the count as 0 but add 1 as smoothing for both classes for calculating the weights.\n",
    "\n",
    "> __d)__ Yes, loading the model files is different to the functional programming principles. Because it changes the in state that do not depend on the function inputs. The in-memory join is potentially a problem to scability but it could be much faster if we calcualte things and join them in RAM, and RAM is relatively cheap to expand.\n",
    "\n",
    "> __e)__ Complete the coding portion of this question before answering 'f'.\n",
    "\n",
    "> __f)__ If we need to parallelize the mapper process, then we will need to add a total count key in order to calcualte the probabilities; and the total count will need to be at the begining of all the keys as *total. The key-value structure will be similar except for the *total key, where we have the count for each word in two classes. In the reducer, we will need to sum the *total key first so that we can calculate the conditional probabilities as well as the prior probabilities. \n"
   ]
  },
  {
   "cell_type": "markdown",
   "metadata": {},
   "source": [
    "Run these cells to create the example corpus and model."
   ]
  },
  {
   "cell_type": "code",
   "execution_count": 142,
   "metadata": {},
   "outputs": [
    {
     "name": "stdout",
     "output_type": "stream",
     "text": [
      "Writing NaiveBayes/chineseTrain.txt\n"
     ]
    }
   ],
   "source": [
    "%%writefile NaiveBayes/chineseTrain.txt\n",
    "D1\t1\t\tChinese Beijing Chinese\n",
    "D2\t1\t\tChinese Chinese Shanghai\n",
    "D3\t1\t\tChinese Macao\n",
    "D4\t0\t\tTokyo Japan Chinese"
   ]
  },
  {
   "cell_type": "code",
   "execution_count": 143,
   "metadata": {},
   "outputs": [
    {
     "name": "stdout",
     "output_type": "stream",
     "text": [
      "Writing NaiveBayes/chineseTest.txt\n"
     ]
    }
   ],
   "source": [
    "%%writefile NaiveBayes/chineseTest.txt\n",
    "D5\t1\t\tChinese Chinese Chinese Tokyo Japan\n",
    "D6\t1\t\tBeijing Shanghai Trade\n",
    "D7\t0\t\tJapan Macao Tokyo\n",
    "D8\t0\t\tTokyo Japan Trade"
   ]
  },
  {
   "cell_type": "code",
   "execution_count": 144,
   "metadata": {},
   "outputs": [
    {
     "name": "stdout",
     "output_type": "stream",
     "text": [
      "Writing NBmodel.txt\n"
     ]
    }
   ],
   "source": [
    "%%writefile NBmodel.txt\n",
    "beijing\t0.0,1.0,0.111111111111,0.142857142857\n",
    "chinese\t1.0,5.0,0.222222222222,0.428571428571\n",
    "tokyo\t1.0,0.0,0.222222222222,0.0714285714286\n",
    "shanghai\t0.0,1.0,0.111111111111,0.142857142857\n",
    "ClassPriors\t1.0,3.0,0.25,0.75\n",
    "japan\t1.0,0.0,0.222222222222,0.0714285714286\n",
    "macao\t0.0,1.0,0.111111111111,0.142857142857"
   ]
  },
  {
   "cell_type": "code",
   "execution_count": 145,
   "metadata": {},
   "outputs": [],
   "source": [
    "# load the data files into HDFS\n",
    "!hdfs dfs -copyFromLocal NaiveBayes/chineseTrain.txt {HDFS_DIR}\n",
    "!hdfs dfs -copyFromLocal NaiveBayes/chineseTest.txt {HDFS_DIR}"
   ]
  },
  {
   "cell_type": "markdown",
   "metadata": {},
   "source": [
    "Your work for `part e` starts here:"
   ]
  },
  {
   "cell_type": "code",
   "execution_count": 146,
   "metadata": {},
   "outputs": [],
   "source": [
    "# part e - do your work in NaiveBayes/classify_mapper.py first, then run this cell.\n",
    "!chmod a+x NaiveBayes/classify_mapper.py"
   ]
  },
  {
   "cell_type": "code",
   "execution_count": 147,
   "metadata": {},
   "outputs": [
    {
     "name": "stdout",
     "output_type": "stream",
     "text": [
      "d5  1  -8.90668134500626   -8.10769031284611   1\n",
      "d6  1  -5.780743515794329  -4.179502370564408  1\n",
      "d7  0  -6.591673732011658  -7.511706880737811  0\n",
      "d8  0  -4.394449154674438  -5.565796731681498  0\n"
     ]
    }
   ],
   "source": [
    "# part e - unit test NaiveBayes/classify_mapper.py (RUN THIS CELL AS IS)\n",
    "!cat NaiveBayes/chineseTest.txt | NaiveBayes/classify_mapper.py | column -t"
   ]
  },
  {
   "cell_type": "code",
   "execution_count": null,
   "metadata": {},
   "outputs": [],
   "source": [
    "# part e - clear the output directory in HDFS (RUN THIS CELL AS IS)\n",
    "!hdfs dfs -rm -r {HDFS_DIR}/chinese-output"
   ]
  },
  {
   "cell_type": "code",
   "execution_count": 153,
   "metadata": {},
   "outputs": [
    {
     "name": "stdout",
     "output_type": "stream",
     "text": [
      "Found 6 items\n",
      "drwxr-xr-x   - root supergroup          0 2020-05-24 23:47 /user/root/HW2/chinese-output\n",
      "-rw-r--r--   1 root supergroup        119 2020-05-24 22:51 /user/root/HW2/chineseTest.txt\n",
      "-rw-r--r--   1 root supergroup        107 2020-05-24 22:51 /user/root/HW2/chineseTrain.txt\n",
      "drwxr-xr-x   - root supergroup          0 2020-05-24 21:29 /user/root/HW2/eda-output\n",
      "drwxr-xr-x   - root supergroup          0 2020-05-24 21:21 /user/root/HW2/eda-sort-output\n",
      "-rw-r--r--   1 root supergroup     204559 2020-05-21 20:50 /user/root/HW2/enron.txt\n"
     ]
    }
   ],
   "source": [
    "!hdfs dfs -ls {HDFS_DIR}"
   ]
  },
  {
   "cell_type": "code",
   "execution_count": 155,
   "metadata": {},
   "outputs": [
    {
     "name": "stdout",
     "output_type": "stream",
     "text": [
      "Deleted /user/root/HW2/chinese-output\n",
      "packageJobJar: [] [/usr/lib/hadoop-mapreduce/hadoop-streaming-2.6.0-cdh5.16.2.jar] /tmp/streamjob7350879233696321214.jar tmpDir=null\n",
      "20/05/25 00:25:57 INFO client.RMProxy: Connecting to ResourceManager at /0.0.0.0:8032\n",
      "20/05/25 00:25:57 INFO client.RMProxy: Connecting to ResourceManager at /0.0.0.0:8032\n",
      "20/05/25 00:25:58 INFO mapred.FileInputFormat: Total input paths to process : 1\n",
      "20/05/25 00:25:58 INFO mapreduce.JobSubmitter: number of splits:2\n",
      "20/05/25 00:25:58 INFO mapreduce.JobSubmitter: Submitting tokens for job: job_1590343423886_0054\n",
      "20/05/25 00:25:58 INFO impl.YarnClientImpl: Submitted application application_1590343423886_0054\n",
      "20/05/25 00:25:58 INFO mapreduce.Job: The url to track the job: http://docker.w261:8088/proxy/application_1590343423886_0054/\n",
      "20/05/25 00:25:58 INFO mapreduce.Job: Running job: job_1590343423886_0054\n",
      "20/05/25 00:26:04 INFO mapreduce.Job: Job job_1590343423886_0054 running in uber mode : false\n",
      "20/05/25 00:26:04 INFO mapreduce.Job:  map 0% reduce 0%\n",
      "20/05/25 00:26:09 INFO mapreduce.Job:  map 100% reduce 0%\n",
      "20/05/25 00:26:14 INFO mapreduce.Job:  map 100% reduce 50%\n",
      "20/05/25 00:26:15 INFO mapreduce.Job:  map 100% reduce 100%\n",
      "20/05/25 00:26:16 INFO mapreduce.Job: Job job_1590343423886_0054 completed successfully\n",
      "20/05/25 00:26:16 INFO mapreduce.Job: Counters: 50\n",
      "\tFile System Counters\n",
      "\t\tFILE: Number of bytes read=198\n",
      "\t\tFILE: Number of bytes written=598218\n",
      "\t\tFILE: Number of read operations=0\n",
      "\t\tFILE: Number of large read operations=0\n",
      "\t\tFILE: Number of write operations=0\n",
      "\t\tHDFS: Number of bytes read=405\n",
      "\t\tHDFS: Number of bytes written=178\n",
      "\t\tHDFS: Number of read operations=12\n",
      "\t\tHDFS: Number of large read operations=0\n",
      "\t\tHDFS: Number of write operations=4\n",
      "\tJob Counters \n",
      "\t\tKilled reduce tasks=1\n",
      "\t\tLaunched map tasks=2\n",
      "\t\tLaunched reduce tasks=2\n",
      "\t\tData-local map tasks=2\n",
      "\t\tTotal time spent by all maps in occupied slots (ms)=6274\n",
      "\t\tTotal time spent by all reduces in occupied slots (ms)=6144\n",
      "\t\tTotal time spent by all map tasks (ms)=6274\n",
      "\t\tTotal time spent by all reduce tasks (ms)=6144\n",
      "\t\tTotal vcore-milliseconds taken by all map tasks=6274\n",
      "\t\tTotal vcore-milliseconds taken by all reduce tasks=6144\n",
      "\t\tTotal megabyte-milliseconds taken by all map tasks=6424576\n",
      "\t\tTotal megabyte-milliseconds taken by all reduce tasks=6291456\n",
      "\tMap-Reduce Framework\n",
      "\t\tMap input records=4\n",
      "\t\tMap output records=4\n",
      "\t\tMap output bytes=178\n",
      "\t\tMap output materialized bytes=210\n",
      "\t\tInput split bytes=226\n",
      "\t\tCombine input records=0\n",
      "\t\tCombine output records=0\n",
      "\t\tReduce input groups=4\n",
      "\t\tReduce shuffle bytes=210\n",
      "\t\tReduce input records=4\n",
      "\t\tReduce output records=4\n",
      "\t\tSpilled Records=8\n",
      "\t\tShuffled Maps =4\n",
      "\t\tFailed Shuffles=0\n",
      "\t\tMerged Map outputs=4\n",
      "\t\tGC time elapsed (ms)=174\n",
      "\t\tCPU time spent (ms)=2910\n",
      "\t\tPhysical memory (bytes) snapshot=1043099648\n",
      "\t\tVirtual memory (bytes) snapshot=5514260480\n",
      "\t\tTotal committed heap usage (bytes)=1140850688\n",
      "\tShuffle Errors\n",
      "\t\tBAD_ID=0\n",
      "\t\tCONNECTION=0\n",
      "\t\tIO_ERROR=0\n",
      "\t\tWRONG_LENGTH=0\n",
      "\t\tWRONG_MAP=0\n",
      "\t\tWRONG_REDUCE=0\n",
      "\tFile Input Format Counters \n",
      "\t\tBytes Read=179\n",
      "\tFile Output Format Counters \n",
      "\t\tBytes Written=178\n",
      "20/05/25 00:26:16 INFO streaming.StreamJob: Output directory: /user/root/HW2//chinese-output\n"
     ]
    }
   ],
   "source": [
    "# part e - write your Hadooop streaming job here\n",
    "!hdfs dfs -rm -r {HDFS_DIR}/chinese-output\n",
    "!hadoop jar {JAR_FILE} \\\n",
    "  -files NBmodel.txt,NaiveBayes/classify_mapper.py \\\n",
    "  -mapper classify_mapper.py \\\n",
    "  -reducer /bin/cat \\\n",
    "  -input {HDFS_DIR}/chineseTest.txt \\\n",
    "  -output {HDFS_DIR}/chinese-output \\\n",
    "  -numReduceTasks 2 \\\n",
    "  -cmdenv PATH={PATH}"
   ]
  },
  {
   "cell_type": "code",
   "execution_count": 156,
   "metadata": {},
   "outputs": [],
   "source": [
    "# part e - retrieve test set results from HDFS (RUN THIS CELL AS IS)\n",
    "!hdfs dfs -cat {HDFS_DIR}/chinese-output/part-000* > NaiveBayes/chineseResults.txt"
   ]
  },
  {
   "cell_type": "code",
   "execution_count": 157,
   "metadata": {},
   "outputs": [
    {
     "name": "stdout",
     "output_type": "stream",
     "text": [
      "d5  1  -8.90668134500626   -8.10769031284611   1\n",
      "d7  0  -6.591673732011658  -7.511706880737811  0\n",
      "d6  1  -5.780743515794329  -4.179502370564408  1\n",
      "d8  0  -4.394449154674438  -5.565796731681498  0\n"
     ]
    }
   ],
   "source": [
    "# part e - take a look (RUN THIS CELL AS IS)\n",
    "!cat NaiveBayes/chineseResults.txt | column -t"
   ]
  },
  {
   "cell_type": "markdown",
   "metadata": {},
   "source": [
    "<table>\n",
    "<th> Expected output for the test set:</th>\n",
    "<tr align=Left><td><pre>\n",
    "d5\t1\t-8.90668134\t-8.10769031\t1\n",
    "d6\t1\t-5.78074351\t-4.17950237\t1\n",
    "d7\t0\t-6.59167373\t-7.51170688\t0\n",
    "d8\t0\t-4.39444915\t-5.56579673\t0\n",
    "</pre></td><tr>\n",
    "</table>"
   ]
  },
  {
   "cell_type": "markdown",
   "metadata": {},
   "source": [
    "# Question 8: Naive Bayes Training.\n",
    "In Question 7 we used a model that we had trained by hand. Next we'll develop the code to do that same training in parallel, making it suitable for use with larger corpora (like the Enron emails). The end result of the MapReduce job you write in this question should be a model text file that looks just like the example (`NBmodel.txt`) that we created by hand above.\n",
    "\n",
    "To refresh your memory about the training process take a look at  `6a` and `6b` where you described the pieces of information you'll need to collect in order to encode a Multinomial Naive Bayes model. We now want to retrieve those pieces of information while streaming over a corpus. The bulk of the task will be very similar to the word counting excercises you've already done but you may want to consider a slightly different key-value record structure to efficiently tally counts for each class. \n",
    "\n",
    "The most challenging (interesting?) design question will be how to retrieve the totals (# of documents and # of words in documents for each class). Of course, counting these numbers is easy. The hard part is the timing: you'll need to make sure you have the counts totalled up _before_ you start estimating the class conditional probabilities for each word. It would be best (i.e. most scalable) if we could find a way to do this tallying without storing the whole vocabulary in memory... Use an appropriate MapReduce design pattern to implement this efficiently! \n",
    "\n",
    "\n",
    "### Q8 Tasks:\n",
    "* __a) make a plan:__  Fill in the docstrings for __`NaiveBayes/train_mapper.py`__ and __`NaiveBayes/train_reducer.py`__ to appropriately reflect the format that each script will input/output. [`HINT:` _the input files_ (`enronemail_1h.txt` & `chineseTrain.txt`) _have a prespecified format and your output file should match_ `NBmodel.txt` _so you really only have to decide on an internal format for Hadoop_].\n",
    "\n",
    "\n",
    "* __b) implement it:__ Complete the code in __`NaiveBayes/train_mapper.py`__ and __`NaiveBayes/train_reducer.py`__ so that together they train a Multinomial Naive Bayes model __with no smoothing__. Make sure your end result is formatted correctly (see note above). Test your scripts independently and together (using `chineseTrain.txt` or test input of your own devising). When you are satisfied with your Python code design and run a Hadoop streaming command to run your job in parallel on the __chineseTrain.txt__. Confirm that your trained model matches your hand calculations from Question 5.\n",
    "\n",
    "\n",
    "* __c) short response:__ We saw in Question 6 that adding Laplace +1 smoothing makes our classifications less sensitve to rare words. However implementing this technique requires access to one additional piece of information that we had not previously used in our Naive Bayes training. What is that extra piece of information? [`HINT:` see equation 13.7 in Manning, Raghavan and Schutze].\n",
    "\n",
    "\n",
    "* __d) short response:__ There are a couple of approaches that we could take to handle the extra piece of information you identified in `c`: 1) if we knew this extra information beforehand, we could provide it to our reducer as a configurable parameter for the vocab size dynamically (_where would we get it in the first place?_). Or 2) we could compute it in the reducer without storing any bulky information in memory but then we'd need some postprocessing or a second MapReduce job to complete the calculation (_why?_). Breifly explain what is non-ideal about each of these options. \n",
    "\n",
    "\n",
    "* __e) code + short response:__ Choose one of the 2 options above. State your choice & reasoning in the space below then use that strategy to complete the code in __`NaiveBayes/train_reducer_smooth.py`__. Test this alternate reducer then write and run a Hadoop streaming job to train an MNB model with smoothing on the Chinese example. Your results should match the model that we provided for you above (and the calculations in the textbook example). __IMPORTANT NOTE:__ For full credit on this question, your code must work with multiple reducers. \n",
    "\n",
    "    - [`HINT:` You will need to implement custom partitioning - [Total Order Sort Notebook](https://github.com/UCB-w261/main/tree/master/HelpfulResources/TotalSortGuide/_total-sort-guide-spark2.01-JAN27-2017.ipynb)] \n",
    "\n",
    "    - [`HINT:` Don't start from scratch with this one -- you can just copy over your reducer code from part `b` and make the needed modifications]. \n"
   ]
  },
  {
   "cell_type": "markdown",
   "metadata": {},
   "source": [
    "\n",
    "__IMPORTANT NOTE:__ For full credit on this question, your code must work with multiple reducers. [`HINT:`_You will need to implement custom partitioning - [Total Order Sort Notebook](https://github.com/UCB-w261/main/tree/master/HelpfulResources/TotalSortGuide/_total-sort-guide-spark2.01-JAN27-2017.ipynb)]\n"
   ]
  },
  {
   "cell_type": "markdown",
   "metadata": {},
   "source": [
    "### Q8 Student Answers:\n",
    "> __ c)__ We will need to know the B', which is the number of terms in the vocabulary, in the chineseTrain.txt, it will be 6 different words.\n",
    "\n",
    "> __ d)__ For approach 1, we can modify the existing reducer and mapper to count the unique key counts in the first MapReduce job, so it pass the output to the reducer and re-calculate the relative frequencies with vocabulary parameter. For approach 2, we weill need to do a seperate MapReduce, so we can get it by adding a dictionary to store the count and keys. Then do a total word count and unique keys count at the Reduce stage from different partitions. The second approach is not ideal since it requires extra storage and two MapReduce jobs. \n",
    "\n",
    "> __ e)__ I choose the first option, since the vocabulary size is normally not static in practice and the partition also seperated words and make sure there will be no redundent words in reducers, so it will be better to modify the mapper and calculate it in the reduce stage."
   ]
  },
  {
   "cell_type": "code",
   "execution_count": 158,
   "metadata": {},
   "outputs": [
    {
     "name": "stdout",
     "output_type": "stream",
     "text": [
      "=========== MAPPER DOCSTRING ============\n",
      "Mapper reads in text documents and emits word counts by class.\n",
      "INPUT:                                                    \n",
      "    DocID \\t true_class \\t subject \\t body                \n",
      "OUTPUT:                                                   \n",
      "    partitionKey \\t word \\t class0_partialCount,class1_partialCount       \n",
      "    \n",
      "=========== REDUCER DOCSTRING ============\n",
      "Reducer aggregates word counts by class and emits frequencies.\n",
      "\n",
      "INPUT:\n",
      "    partitionKey \\t word \\t class0_partialCount,class1_partialCount \n",
      "OUTPUT:\n",
      "    word \\t class0_totalCount,class1_totalCount, class0_probability,class1_probability \n"
     ]
    }
   ],
   "source": [
    "# part a - do your work in train_mapper.py and train_reducer.py then RUN THIS CELL AS IS\n",
    "!chmod a+x NaiveBayes/train_mapper.py\n",
    "!chmod a+x NaiveBayes/train_reducer.py\n",
    "!echo \"=========== MAPPER DOCSTRING ============\"\n",
    "!head -n 8 NaiveBayes/train_mapper.py | tail -n 6\n",
    "!echo \"=========== REDUCER DOCSTRING ============\"\n",
    "!head -n 8 NaiveBayes/train_reducer.py | tail -n 6"
   ]
  },
  {
   "cell_type": "markdown",
   "metadata": {},
   "source": [
    "__`part b starts here`:__ MNB _without_ Smoothing (training on Chinese Example Corpus)."
   ]
  },
  {
   "cell_type": "code",
   "execution_count": 183,
   "metadata": {},
   "outputs": [
    {
     "name": "stdout",
     "output_type": "stream",
     "text": [
      "A  chinese       0,1\n",
      "A  beijing       0,1\n",
      "A  chinese       0,1\n",
      "A  chinese       0,1\n",
      "A  chinese       0,1\n",
      "C  shanghai      0,1\n",
      "A  chinese       0,1\n",
      "B  macao         0,1\n",
      "D  tokyo         1,0\n",
      "B  japan         1,0\n",
      "A  chinese       1,0\n",
      "A  !total_words  3,   8\n",
      "A  !total_docs   1,   3\n",
      "B  !total_words  3,   8\n",
      "B  !total_docs   1,   3\n",
      "C  !total_words  3,   8\n",
      "C  !total_docs   1,   3\n",
      "D  !total_words  3,   8\n",
      "D  !total_docs   1,   3\n"
     ]
    }
   ],
   "source": [
    "# part b - write a unit test for your mapper here\n",
    "!cat NaiveBayes/chineseTrain.txt | NaiveBayes/train_mapper.py | column -t"
   ]
  },
  {
   "cell_type": "code",
   "execution_count": 208,
   "metadata": {},
   "outputs": [
    {
     "name": "stdout",
     "output_type": "stream",
     "text": [
      "tokyo    1,0,0.5,0.0\n",
      "chinese  0,1,0.0,0.5\n"
     ]
    }
   ],
   "source": [
    "# part b - write a unit test for your reducer here\n",
    "!echo -e \"A\ttokyo\t1,0\\nB\tchinese\t0,1\\nA\t!total_words\t2,2\\nB\t!total_words\t2,2\\nA\t!total_docs\t1,1\\nB\t!total_docs\t1,1\" | sort -k1,1 | NaiveBayes/train_reducer.py | column -t"
   ]
  },
  {
   "cell_type": "code",
   "execution_count": 197,
   "metadata": {},
   "outputs": [
    {
     "name": "stdout",
     "output_type": "stream",
     "text": [
      "beijing      0,1,0.0,0.125\n",
      "chinese      1,5,0.3333333333333333,0.625\n",
      "japan        1,0,0.3333333333333333,0.0\n",
      "macao        0,1,0.0,0.125\n",
      "shanghai     0,1,0.0,0.125\n",
      "tokyo        1,0,0.3333333333333333,0.0\n",
      "ClassPriors  1,3,1/4,3/4\n"
     ]
    }
   ],
   "source": [
    "# part b - write a systems test for your mapper + reducer together here\n",
    "!cat NaiveBayes/chineseTrain.txt | NaiveBayes/train_mapper.py | sort -k1,1 | NaiveBayes/train_reducer.py | column -t"
   ]
  },
  {
   "cell_type": "code",
   "execution_count": 196,
   "metadata": {},
   "outputs": [
    {
     "name": "stdout",
     "output_type": "stream",
     "text": [
      "Deleted /user/root/HW2/chinese-unsmoothed-output\n"
     ]
    }
   ],
   "source": [
    "# part b - clear (and name) an output directory in HDFS for your unsmoothed chinese NB model\n",
    "!hdfs dfs -rm -r {HDFS_DIR}/chinese-unsmoothed-output"
   ]
  },
  {
   "cell_type": "code",
   "execution_count": 198,
   "metadata": {},
   "outputs": [
    {
     "name": "stdout",
     "output_type": "stream",
     "text": [
      "rm: `/user/root/HW2//chinese-unsmoothed-output': No such file or directory\n",
      "packageJobJar: [] [/usr/lib/hadoop-mapreduce/hadoop-streaming-2.6.0-cdh5.16.2.jar] /tmp/streamjob3298655348836815912.jar tmpDir=null\n",
      "20/05/25 03:22:05 INFO client.RMProxy: Connecting to ResourceManager at /0.0.0.0:8032\n",
      "20/05/25 03:22:05 INFO client.RMProxy: Connecting to ResourceManager at /0.0.0.0:8032\n",
      "20/05/25 03:22:05 INFO mapred.FileInputFormat: Total input paths to process : 1\n",
      "20/05/25 03:22:05 INFO mapreduce.JobSubmitter: number of splits:2\n",
      "20/05/25 03:22:05 INFO mapreduce.JobSubmitter: Submitting tokens for job: job_1590343423886_0056\n",
      "20/05/25 03:22:06 INFO impl.YarnClientImpl: Submitted application application_1590343423886_0056\n",
      "20/05/25 03:22:06 INFO mapreduce.Job: The url to track the job: http://docker.w261:8088/proxy/application_1590343423886_0056/\n",
      "20/05/25 03:22:06 INFO mapreduce.Job: Running job: job_1590343423886_0056\n",
      "20/05/25 03:22:11 INFO mapreduce.Job: Job job_1590343423886_0056 running in uber mode : false\n",
      "20/05/25 03:22:11 INFO mapreduce.Job:  map 0% reduce 0%\n",
      "20/05/25 03:22:17 INFO mapreduce.Job:  map 100% reduce 0%\n",
      "20/05/25 03:22:23 INFO mapreduce.Job:  map 100% reduce 25%\n",
      "20/05/25 03:22:24 INFO mapreduce.Job:  map 100% reduce 50%\n",
      "20/05/25 03:22:25 INFO mapreduce.Job:  map 100% reduce 75%\n",
      "20/05/25 03:22:26 INFO mapreduce.Job:  map 100% reduce 100%\n",
      "20/05/25 03:22:26 INFO mapreduce.Job: Job job_1590343423886_0056 completed successfully\n",
      "20/05/25 03:22:26 INFO mapreduce.Job: Counters: 50\n",
      "\tFile System Counters\n",
      "\t\tFILE: Number of bytes read=539\n",
      "\t\tFILE: Number of bytes written=905832\n",
      "\t\tFILE: Number of read operations=0\n",
      "\t\tFILE: Number of large read operations=0\n",
      "\t\tFILE: Number of write operations=0\n",
      "\t\tHDFS: Number of bytes read=389\n",
      "\t\tHDFS: Number of bytes written=192\n",
      "\t\tHDFS: Number of read operations=18\n",
      "\t\tHDFS: Number of large read operations=0\n",
      "\t\tHDFS: Number of write operations=8\n",
      "\tJob Counters \n",
      "\t\tKilled reduce tasks=1\n",
      "\t\tLaunched map tasks=2\n",
      "\t\tLaunched reduce tasks=4\n",
      "\t\tData-local map tasks=2\n",
      "\t\tTotal time spent by all maps in occupied slots (ms)=6250\n",
      "\t\tTotal time spent by all reduces in occupied slots (ms)=15415\n",
      "\t\tTotal time spent by all map tasks (ms)=6250\n",
      "\t\tTotal time spent by all reduce tasks (ms)=15415\n",
      "\t\tTotal vcore-milliseconds taken by all map tasks=6250\n",
      "\t\tTotal vcore-milliseconds taken by all reduce tasks=15415\n",
      "\t\tTotal megabyte-milliseconds taken by all map tasks=6400000\n",
      "\t\tTotal megabyte-milliseconds taken by all reduce tasks=15784960\n",
      "\tMap-Reduce Framework\n",
      "\t\tMap input records=4\n",
      "\t\tMap output records=27\n",
      "\t\tMap output bytes=461\n",
      "\t\tMap output materialized bytes=563\n",
      "\t\tInput split bytes=228\n",
      "\t\tCombine input records=0\n",
      "\t\tCombine output records=0\n",
      "\t\tReduce input groups=14\n",
      "\t\tReduce shuffle bytes=563\n",
      "\t\tReduce input records=27\n",
      "\t\tReduce output records=7\n",
      "\t\tSpilled Records=54\n",
      "\t\tShuffled Maps =8\n",
      "\t\tFailed Shuffles=0\n",
      "\t\tMerged Map outputs=8\n",
      "\t\tGC time elapsed (ms)=289\n",
      "\t\tCPU time spent (ms)=4630\n",
      "\t\tPhysical memory (bytes) snapshot=1433481216\n",
      "\t\tVirtual memory (bytes) snapshot=8248856576\n",
      "\t\tTotal committed heap usage (bytes)=1843396608\n",
      "\tShuffle Errors\n",
      "\t\tBAD_ID=0\n",
      "\t\tCONNECTION=0\n",
      "\t\tIO_ERROR=0\n",
      "\t\tWRONG_LENGTH=0\n",
      "\t\tWRONG_MAP=0\n",
      "\t\tWRONG_REDUCE=0\n",
      "\tFile Input Format Counters \n",
      "\t\tBytes Read=161\n",
      "\tFile Output Format Counters \n",
      "\t\tBytes Written=192\n",
      "20/05/25 03:22:26 INFO streaming.StreamJob: Output directory: /user/root/HW2//chinese-unsmoothed-output\n"
     ]
    }
   ],
   "source": [
    "# part b - write your hadoop streaming job\n",
    "!hdfs dfs -rm -r {HDFS_DIR}/chinese-unsmoothed-output\n",
    "!hadoop jar {JAR_FILE} \\\n",
    "  -D stream.num.map.output.key.fields=2 \\\n",
    "  -D mapreduce.job.output.key.comparator.class=org.apache.hadoop.mapred.lib.KeyFieldBasedComparator \\\n",
    "  -D mapreduce.partition.keycomparator.options=\"-k1,1 -k2,2\" \\\n",
    "  -D mapreduce.partition.keypartitioner.options=\"-k1,1\" \\\n",
    "  -files NaiveBayes/chineseTrain.txt,NaiveBayes/train_mapper.py,NaiveBayes/train_reducer.py \\\n",
    "  -mapper train_mapper.py \\\n",
    "  -reducer train_reducer.py \\\n",
    "  -partitioner org.apache.hadoop.mapred.lib.KeyFieldBasedPartitioner \\\n",
    "  -input {HDFS_DIR}/chineseTrain.txt \\\n",
    "  -output {HDFS_DIR}/chinese-unsmoothed-output \\\n",
    "  -cmdenv PATH={PATH} \\\n",
    "  -numReduceTasks 4"
   ]
  },
  {
   "cell_type": "code",
   "execution_count": 199,
   "metadata": {},
   "outputs": [],
   "source": [
    "# part b - extract your results (i.e. model) to a local file\n",
    "!hdfs dfs -cat {HDFS_DIR}/chinese-unsmoothed-output/part-000* > NaiveBayes/chineseUnsmoothedResults.txt"
   ]
  },
  {
   "cell_type": "code",
   "execution_count": 200,
   "metadata": {},
   "outputs": [
    {
     "name": "stdout",
     "output_type": "stream",
     "text": [
      "tokyo        1,0,0.3333333333333333,0.0\n",
      "ClassPriors  1,3,1/4,3/4\n",
      "beijing      0,1,0.0,0.125\n",
      "chinese      1,5,0.3333333333333333,0.625\n",
      "japan        1,0,0.3333333333333333,0.0\n",
      "macao        0,1,0.0,0.125\n",
      "shanghai     0,1,0.0,0.125\n"
     ]
    }
   ],
   "source": [
    "# part b - print your model so that we can confirm that it matches expected results\n",
    "!cat NaiveBayes/chineseUnsmoothedResults.txt | column -t"
   ]
  },
  {
   "cell_type": "code",
   "execution_count": 192,
   "metadata": {},
   "outputs": [
    {
     "name": "stdout",
     "output_type": "stream",
     "text": [
      "D1\t1\t\tChinese Beijing Chinese\n",
      "D2\t1\t\tChinese Chinese Shanghai\n",
      "D3\t1\t\tChinese Macao\n",
      "D4\t0\t\tTokyo Japan Chinese\n"
     ]
    }
   ],
   "source": [
    "!cat NaiveBayes/chineseTrain.txt"
   ]
  },
  {
   "cell_type": "markdown",
   "metadata": {},
   "source": [
    "__`part e starts here`:__ MNB _with_ Smoothing (training on Chinese Example Corpus)."
   ]
  },
  {
   "cell_type": "code",
   "execution_count": 220,
   "metadata": {},
   "outputs": [
    {
     "name": "stdout",
     "output_type": "stream",
     "text": [
      "A\tchinese\t0,1\n",
      "A\tbeijing\t0,1\n",
      "A\tchinese\t0,1\n",
      "A\tchinese\t0,1\n",
      "A\tchinese\t0,1\n",
      "C\tshanghai\t0,1\n",
      "A\tchinese\t0,1\n",
      "B\tmacao\t0,1\n",
      "D\ttokyo\t1,0\n",
      "B\tjapan\t1,0\n",
      "A\tchinese\t1,0\n",
      "A\t!total_words\t3, 8\n",
      "A\t!total_docs\t1, 3\n",
      "A\t!uniq_words\t6, 6\n",
      "B\t!total_words\t3, 8\n",
      "B\t!total_docs\t1, 3\n",
      "B\t!uniq_words\t6, 6\n",
      "C\t!total_words\t3, 8\n",
      "C\t!total_docs\t1, 3\n",
      "C\t!uniq_words\t6, 6\n",
      "D\t!total_words\t3, 8\n",
      "D\t!total_docs\t1, 3\n",
      "D\t!uniq_words\t6, 6\n"
     ]
    }
   ],
   "source": [
    "!cat NaiveBayes/chineseTrain.txt | NaiveBayes/train_mapper.py"
   ]
  },
  {
   "cell_type": "code",
   "execution_count": 20,
   "metadata": {},
   "outputs": [
    {
     "name": "stdout",
     "output_type": "stream",
     "text": [
      "tokyo    1,0,0.5,0.25\n",
      "chinese  0,1,0.3333333333333333,0.6666666666666666\n"
     ]
    }
   ],
   "source": [
    "# part e - write a unit test for your NEW reducer here\n",
    "!chmod a+x NaiveBayes/train_reducer_smooth.py\n",
    "!echo -e \"A\t!uniq_words\t2,2\\nA\ttokyo\t1,0\\nB\tchinese\t0,1\\nA\t!total_words\t2,2\\nB\t!total_words\t2,2\\nA\t!total_docs\t1,1\\nB\t!total_docs\t1,1\\nB\t!uniq_words\t1,1\" \\\n",
    "|sort -k1,1 | NaiveBayes/train_reducer_smooth.py | column -t"
   ]
  },
  {
   "cell_type": "code",
   "execution_count": 21,
   "metadata": {},
   "outputs": [
    {
     "name": "stdout",
     "output_type": "stream",
     "text": [
      "beijing      0,1,0.1111111111111111,0.14285714285714285\n",
      "chinese      1,5,0.2222222222222222,0.42857142857142855\n",
      "japan        1,0,0.2222222222222222,0.07142857142857142\n",
      "macao        0,1,0.1111111111111111,0.14285714285714285\n",
      "shanghai     0,1,0.1111111111111111,0.14285714285714285\n",
      "tokyo        1,0,0.2222222222222222,0.07142857142857142\n",
      "ClassPriors  1,3,1/4,3/4\n"
     ]
    }
   ],
   "source": [
    "# part e - write a systems test for your mapper + reducer together here\n",
    "!cat NaiveBayes/chineseTrain.txt | NaiveBayes/train_mapper.py | sort -k1,1 | NaiveBayes/train_reducer_smooth.py | column -t"
   ]
  },
  {
   "cell_type": "code",
   "execution_count": 22,
   "metadata": {},
   "outputs": [
    {
     "name": "stdout",
     "output_type": "stream",
     "text": [
      "rm: `{HDFS_DIR}/chinese-smoothed-output': No such file or directory\n"
     ]
    }
   ],
   "source": [
    "# part e - clear (and name) an output directory in HDFS for your SMOOTHED chinese NB model\n",
    "!hdfs dfs -rm -r {HDFS_DIR}/chinese-smoothed-output"
   ]
  },
  {
   "cell_type": "code",
   "execution_count": 30,
   "metadata": {},
   "outputs": [
    {
     "name": "stdout",
     "output_type": "stream",
     "text": [
      "rm: `/user/root/HW2//chinese-smoothed-output': No such file or directory\n",
      "packageJobJar: [] [/usr/lib/hadoop-mapreduce/hadoop-streaming-2.6.0-cdh5.16.2.jar] /tmp/streamjob1076079684030399543.jar tmpDir=null\n",
      "20/05/26 01:20:33 INFO client.RMProxy: Connecting to ResourceManager at /0.0.0.0:8032\n",
      "20/05/26 01:20:33 INFO client.RMProxy: Connecting to ResourceManager at /0.0.0.0:8032\n",
      "20/05/26 01:20:34 INFO mapred.FileInputFormat: Total input paths to process : 1\n",
      "20/05/26 01:20:35 INFO mapreduce.JobSubmitter: number of splits:2\n",
      "20/05/26 01:20:35 INFO mapreduce.JobSubmitter: Submitting tokens for job: job_1590446307220_0001\n",
      "20/05/26 01:20:35 INFO impl.YarnClientImpl: Submitted application application_1590446307220_0001\n",
      "20/05/26 01:20:35 INFO mapreduce.Job: The url to track the job: http://docker.w261:8088/proxy/application_1590446307220_0001/\n",
      "20/05/26 01:20:35 INFO mapreduce.Job: Running job: job_1590446307220_0001\n",
      "20/05/26 01:20:42 INFO mapreduce.Job: Job job_1590446307220_0001 running in uber mode : false\n",
      "20/05/26 01:20:42 INFO mapreduce.Job:  map 0% reduce 0%\n",
      "20/05/26 01:20:47 INFO mapreduce.Job:  map 50% reduce 0%\n",
      "20/05/26 01:20:49 INFO mapreduce.Job:  map 100% reduce 0%\n",
      "20/05/26 01:20:55 INFO mapreduce.Job:  map 100% reduce 25%\n",
      "20/05/26 01:20:56 INFO mapreduce.Job:  map 100% reduce 50%\n",
      "20/05/26 01:20:57 INFO mapreduce.Job:  map 100% reduce 75%\n",
      "20/05/26 01:20:58 INFO mapreduce.Job:  map 100% reduce 100%\n",
      "20/05/26 01:20:58 INFO mapreduce.Job: Job job_1590446307220_0001 completed successfully\n",
      "20/05/26 01:20:58 INFO mapreduce.Job: Counters: 50\n",
      "\tFile System Counters\n",
      "\t\tFILE: Number of bytes read=707\n",
      "\t\tFILE: Number of bytes written=906366\n",
      "\t\tFILE: Number of read operations=0\n",
      "\t\tFILE: Number of large read operations=0\n",
      "\t\tFILE: Number of write operations=0\n",
      "\t\tHDFS: Number of bytes read=389\n",
      "\t\tHDFS: Number of bytes written=219\n",
      "\t\tHDFS: Number of read operations=18\n",
      "\t\tHDFS: Number of large read operations=0\n",
      "\t\tHDFS: Number of write operations=8\n",
      "\tJob Counters \n",
      "\t\tKilled reduce tasks=1\n",
      "\t\tLaunched map tasks=2\n",
      "\t\tLaunched reduce tasks=4\n",
      "\t\tData-local map tasks=2\n",
      "\t\tTotal time spent by all maps in occupied slots (ms)=6303\n",
      "\t\tTotal time spent by all reduces in occupied slots (ms)=16518\n",
      "\t\tTotal time spent by all map tasks (ms)=6303\n",
      "\t\tTotal time spent by all reduce tasks (ms)=16518\n",
      "\t\tTotal vcore-milliseconds taken by all map tasks=6303\n",
      "\t\tTotal vcore-milliseconds taken by all reduce tasks=16518\n",
      "\t\tTotal megabyte-milliseconds taken by all map tasks=6454272\n",
      "\t\tTotal megabyte-milliseconds taken by all reduce tasks=16914432\n",
      "\tMap-Reduce Framework\n",
      "\t\tMap input records=4\n",
      "\t\tMap output records=35\n",
      "\t\tMap output bytes=613\n",
      "\t\tMap output materialized bytes=731\n",
      "\t\tInput split bytes=228\n",
      "\t\tCombine input records=0\n",
      "\t\tCombine output records=0\n",
      "\t\tReduce input groups=18\n",
      "\t\tReduce shuffle bytes=731\n",
      "\t\tReduce input records=35\n",
      "\t\tReduce output records=7\n",
      "\t\tSpilled Records=70\n",
      "\t\tShuffled Maps =8\n",
      "\t\tFailed Shuffles=0\n",
      "\t\tMerged Map outputs=8\n",
      "\t\tGC time elapsed (ms)=243\n",
      "\t\tCPU time spent (ms)=4700\n",
      "\t\tPhysical memory (bytes) snapshot=1447542784\n",
      "\t\tVirtual memory (bytes) snapshot=8260694016\n",
      "\t\tTotal committed heap usage (bytes)=1777336320\n",
      "\tShuffle Errors\n",
      "\t\tBAD_ID=0\n",
      "\t\tCONNECTION=0\n",
      "\t\tIO_ERROR=0\n",
      "\t\tWRONG_LENGTH=0\n",
      "\t\tWRONG_MAP=0\n",
      "\t\tWRONG_REDUCE=0\n",
      "\tFile Input Format Counters \n",
      "\t\tBytes Read=161\n",
      "\tFile Output Format Counters \n",
      "\t\tBytes Written=219\n",
      "20/05/26 01:20:58 INFO streaming.StreamJob: Output directory: /user/root/HW2//chinese-smoothed-output\n"
     ]
    }
   ],
   "source": [
    "# part e - write your hadoop streaming job\n",
    "!hdfs dfs -rm -r {HDFS_DIR}/chinese-smoothed-output\n",
    "!hadoop jar {JAR_FILE} \\\n",
    "  -D stream.num.map.output.key.fields=2 \\\n",
    "  -D mapreduce.job.output.key.comparator.class=org.apache.hadoop.mapred.lib.KeyFieldBasedComparator \\\n",
    "  -D mapreduce.partition.keycomparator.options=\"-k1,1 -k2,2\" \\\n",
    "  -D mapreduce.partition.keypartitioner.options=\"-k1,1\" \\\n",
    "  -files NaiveBayes/chineseTrain.txt,NaiveBayes/train_mapper.py,NaiveBayes/train_reducer_smooth.py \\\n",
    "  -mapper train_mapper.py \\\n",
    "  -reducer train_reducer_smooth.py \\\n",
    "  -partitioner org.apache.hadoop.mapred.lib.KeyFieldBasedPartitioner \\\n",
    "  -input {HDFS_DIR}/chineseTrain.txt \\\n",
    "  -output {HDFS_DIR}/chinese-smoothed-output \\\n",
    "  -cmdenv PATH={PATH} \\\n",
    "  -numReduceTasks 4"
   ]
  },
  {
   "cell_type": "code",
   "execution_count": 31,
   "metadata": {},
   "outputs": [],
   "source": [
    "# part e - extract your results (i.e. model) to a local file\n",
    "!hdfs dfs -cat {HDFS_DIR}/chinese-smoothed-output/part-000* > NaiveBayes/chineseSmoothedResults.txt"
   ]
  },
  {
   "cell_type": "markdown",
   "metadata": {},
   "source": [
    "# Question 9: Enron Ham/Spam NB Classifier & Results.\n",
    "\n",
    "Fantastic work. We're finally ready to perform Spam Classification on the Enron Corpus. In this question you'll run the analysis you've developed, report its performance.\n",
    "\n",
    "### Q9 Tasks:\n",
    "* __a) train/test split:__ Run the provided code to split our Enron file into a training set and testing set then load them into HDFS. [`NOTE:` _Make sure you re calculate the vocab size for just the training set!_]\n",
    "\n",
    "* __b) train 2 models:__ Write Hadoop Streaming jobs to train MNB Models on the training set with and without smoothing. Save your models to local files at __`NaiveBayes/Unsmoothed/NBmodel.txt`__ and __`NaiveBayes/Smoothed/NBmodel.txt`__. [`NOTE:` _This naming is important because we wrote our classification task so that it expects a file of that name... if this inelegance frustrates you there is an alternative that would involve a few adjustments to your code [read more about it here](http://www.tnoda.com/blog/2013-11-23)._] Finally run the checks that we provide to confirm that your results are correct.\n",
    "\n",
    "\n",
    "* __c) code:__ Recall that we designed our classification job with just a mapper. An efficient way to report the performance of our models would be to simply add a reducer phase to this job and compute precision and recall right there. Complete the code in __`NaiveBayes/evaluation_reducer.py`__ and then write Hadoop jobs to evaluate your two models on the test set. Report their performance side by side. [`NOTE:` if you need a refresher on precision, recall and F1-score [Wikipedia](https://en.wikipedia.org/wiki/F1_score) is a good resource.]\n",
    "\n",
    "\n",
    "* __d) short response:__ Compare the performance of your two models. What do you notice about the unsmoothed model's predictions? Can you guess why this is happening? Which evaluation measure do you think is most relevant in our use case? [`NOTE:` _Feel free to answer using your common sense but if you want more information on evaluating the classification task checkout_ [this blogpost](https://tryolabs.com/blog/2013/03/25/why-accuracy-alone-bad-measure-classification-tasks-and-what-we-can-do-about-it/\n",
    ") or [this paper](http://www.flinders.edu.au/science_engineering/fms/School-CSEM/publications/tech_reps-research_artfcts/TRRA_2007.pdf\n",
    ")]\n",
    "\n"
   ]
  },
  {
   "cell_type": "markdown",
   "metadata": {},
   "source": [
    "### Q9 Student Answers:\n",
    "> __d)__ Based on the statistics output from both smoothed and unsmoothed models, it is quite clear that the unsmoothed model has quite a lot of false negatives, it is because without smoothing and low vocabulary, there are a lot of new words in the spam class test set, thus a lot 0 probabilities generated and make the conditional probability lower for ham instead of spam.\n",
    "\n"
   ]
  },
  {
   "cell_type": "markdown",
   "metadata": {},
   "source": [
    "__Test/Train split__"
   ]
  },
  {
   "cell_type": "code",
   "execution_count": 55,
   "metadata": {},
   "outputs": [
    {
     "name": "stdout",
     "output_type": "stream",
     "text": [
      "/media/notebooks/Assignments/HW2\n"
     ]
    }
   ],
   "source": [
    "!pwd\n",
    "# The enronemail file is under master/data"
   ]
  },
  {
   "cell_type": "code",
   "execution_count": 54,
   "metadata": {},
   "outputs": [],
   "source": [
    "# part a - test/train split (RUN THIS CELL AS IS)\n",
    "!head -n 80 master/data/enronemail_1h.txt > master/data/enron_train.txt\n",
    "!tail -n 20 master/data/enronemail_1h.txt > master/data/enron_test.txt\n",
    "!hdfs dfs -copyFromLocal master/data/enron_train.txt {HDFS_DIR}\n",
    "!hdfs dfs -copyFromLocal master/data/enron_test.txt {HDFS_DIR}"
   ]
  },
  {
   "cell_type": "markdown",
   "metadata": {},
   "source": [
    "__Training__ (Enron MNB Model _without smoothing_ )"
   ]
  },
  {
   "cell_type": "code",
   "execution_count": 82,
   "metadata": {},
   "outputs": [
    {
     "name": "stdout",
     "output_type": "stream",
     "text": [
      "Deleted /user/root/HW2/enron-model\n",
      "packageJobJar: [] [/usr/lib/hadoop-mapreduce/hadoop-streaming-2.6.0-cdh5.16.2.jar] /tmp/streamjob6957914345676138428.jar tmpDir=null\n",
      "20/05/26 03:47:27 INFO client.RMProxy: Connecting to ResourceManager at /0.0.0.0:8032\n",
      "20/05/26 03:47:27 INFO client.RMProxy: Connecting to ResourceManager at /0.0.0.0:8032\n",
      "20/05/26 03:47:28 INFO mapred.FileInputFormat: Total input paths to process : 1\n",
      "20/05/26 03:47:28 INFO mapreduce.JobSubmitter: number of splits:2\n",
      "20/05/26 03:47:28 INFO mapreduce.JobSubmitter: Submitting tokens for job: job_1590446307220_0010\n",
      "20/05/26 03:47:28 INFO impl.YarnClientImpl: Submitted application application_1590446307220_0010\n",
      "20/05/26 03:47:28 INFO mapreduce.Job: The url to track the job: http://docker.w261:8088/proxy/application_1590446307220_0010/\n",
      "20/05/26 03:47:28 INFO mapreduce.Job: Running job: job_1590446307220_0010\n",
      "20/05/26 03:47:35 INFO mapreduce.Job: Job job_1590446307220_0010 running in uber mode : false\n",
      "20/05/26 03:47:35 INFO mapreduce.Job:  map 0% reduce 0%\n",
      "20/05/26 03:47:42 INFO mapreduce.Job:  map 100% reduce 0%\n",
      "20/05/26 03:47:48 INFO mapreduce.Job:  map 100% reduce 25%\n",
      "20/05/26 03:47:49 INFO mapreduce.Job:  map 100% reduce 50%\n",
      "20/05/26 03:47:50 INFO mapreduce.Job:  map 100% reduce 75%\n",
      "20/05/26 03:47:51 INFO mapreduce.Job:  map 100% reduce 100%\n",
      "20/05/26 03:47:51 INFO mapreduce.Job: Job job_1590446307220_0010 completed successfully\n",
      "20/05/26 03:47:51 INFO mapreduce.Job: Counters: 50\n",
      "\tFile System Counters\n",
      "\t\tFILE: Number of bytes read=344110\n",
      "\t\tFILE: Number of bytes written=1590772\n",
      "\t\tFILE: Number of read operations=0\n",
      "\t\tFILE: Number of large read operations=0\n",
      "\t\tFILE: Number of write operations=0\n",
      "\t\tHDFS: Number of bytes read=167388\n",
      "\t\tHDFS: Number of bytes written=187173\n",
      "\t\tHDFS: Number of read operations=18\n",
      "\t\tHDFS: Number of large read operations=0\n",
      "\t\tHDFS: Number of write operations=8\n",
      "\tJob Counters \n",
      "\t\tKilled reduce tasks=1\n",
      "\t\tLaunched map tasks=2\n",
      "\t\tLaunched reduce tasks=4\n",
      "\t\tData-local map tasks=2\n",
      "\t\tTotal time spent by all maps in occupied slots (ms)=6995\n",
      "\t\tTotal time spent by all reduces in occupied slots (ms)=16889\n",
      "\t\tTotal time spent by all map tasks (ms)=6995\n",
      "\t\tTotal time spent by all reduce tasks (ms)=16889\n",
      "\t\tTotal vcore-milliseconds taken by all map tasks=6995\n",
      "\t\tTotal vcore-milliseconds taken by all reduce tasks=16889\n",
      "\t\tTotal megabyte-milliseconds taken by all map tasks=7162880\n",
      "\t\tTotal megabyte-milliseconds taken by all reduce tasks=17294336\n",
      "\tMap-Reduce Framework\n",
      "\t\tMap input records=80\n",
      "\t\tMap output records=25091\n",
      "\t\tMap output bytes=293904\n",
      "\t\tMap output materialized bytes=344134\n",
      "\t\tInput split bytes=226\n",
      "\t\tCombine input records=0\n",
      "\t\tCombine output records=0\n",
      "\t\tReduce input groups=4567\n",
      "\t\tReduce shuffle bytes=344134\n",
      "\t\tReduce input records=25091\n",
      "\t\tReduce output records=4560\n",
      "\t\tSpilled Records=50182\n",
      "\t\tShuffled Maps =8\n",
      "\t\tFailed Shuffles=0\n",
      "\t\tMerged Map outputs=8\n",
      "\t\tGC time elapsed (ms)=345\n",
      "\t\tCPU time spent (ms)=8180\n",
      "\t\tPhysical memory (bytes) snapshot=1475526656\n",
      "\t\tVirtual memory (bytes) snapshot=8279048192\n",
      "\t\tTotal committed heap usage (bytes)=1909456896\n",
      "\tShuffle Errors\n",
      "\t\tBAD_ID=0\n",
      "\t\tCONNECTION=0\n",
      "\t\tIO_ERROR=0\n",
      "\t\tWRONG_LENGTH=0\n",
      "\t\tWRONG_MAP=0\n",
      "\t\tWRONG_REDUCE=0\n",
      "\tFile Input Format Counters \n",
      "\t\tBytes Read=167162\n",
      "\tFile Output Format Counters \n",
      "\t\tBytes Written=187173\n",
      "20/05/26 03:47:51 INFO streaming.StreamJob: Output directory: /user/root/HW2//enron-model\n",
      "mkdir: cannot create directory `NaiveBayes/Unsmoothed': File exists\n"
     ]
    }
   ],
   "source": [
    "# part b -  Unsmoothed model (FILL IN THE MISSING CODE BELOW)\n",
    "\n",
    "# clear the output directory\n",
    "!hdfs dfs -rm -r {HDFS_DIR}/enron-model\n",
    "\n",
    "# hadoop command\n",
    "!hadoop jar {JAR_FILE} \\\n",
    "  -D stream.num.map.output.key.fields=2 \\\n",
    "  -D mapreduce.job.output.key.comparator.class=org.apache.hadoop.mapred.lib.KeyFieldBasedComparator \\\n",
    "  -D mapreduce.partition.keycomparator.options=\"-k1,1 -k2,2\" \\\n",
    "  -D mapreduce.partition.keypartitioner.options=\"-k1,1\" \\\n",
    "  -files NaiveBayes/train_mapper.py,NaiveBayes/train_reducer.py \\\n",
    "  -mapper train_mapper.py \\\n",
    "  -reducer train_reducer.py \\\n",
    "  -partitioner org.apache.hadoop.mapred.lib.KeyFieldBasedPartitioner \\\n",
    "  -input {HDFS_DIR}/enron_train.txt \\\n",
    "  -output {HDFS_DIR}/enron-model \\\n",
    "  -cmdenv PATH={PATH} \\\n",
    "  -numReduceTasks 4\n",
    "\n",
    "# save the model locally\n",
    "!mkdir NaiveBayes/Unsmoothed\n",
    "!hdfs dfs -cat {HDFS_DIR}/enron-model/part-000* > NaiveBayes/Unsmoothed/NBmodel.txt"
   ]
  },
  {
   "cell_type": "code",
   "execution_count": 83,
   "metadata": {},
   "outputs": [
    {
     "name": "stdout",
     "output_type": "stream",
     "text": [
      "assistance\t2,4,0.0001725476662928134,0.00029682398337785694\n"
     ]
    }
   ],
   "source": [
    "# part b - check your UNSMOOTHED model results (RUN THIS CELL AS IS)\n",
    "!grep assistance NaiveBayes/Unsmoothed/NBmodel.txt\n",
    "# EXPECTED OUTPUT: assistance\t2,4,0.000172547666293,0.000296823983378"
   ]
  },
  {
   "cell_type": "code",
   "execution_count": 84,
   "metadata": {},
   "outputs": [
    {
     "name": "stdout",
     "output_type": "stream",
     "text": [
      "money\t1,22,8.62738331464067e-05,0.001632531908578213\n"
     ]
    }
   ],
   "source": [
    "# part b - check your UNSMOOTHED model results (RUN THIS CELL AS IS)\n",
    "!grep money NaiveBayes/Unsmoothed/NBmodel.txt\n",
    "# EXPECTED OUTPUT: money\t1,22,8.62738331464e-05,0.00163253190858"
   ]
  },
  {
   "cell_type": "markdown",
   "metadata": {},
   "source": [
    "__Training__ (Enron MNB Model _with Laplace +1 smoothing_ )"
   ]
  },
  {
   "cell_type": "code",
   "execution_count": 92,
   "metadata": {},
   "outputs": [
    {
     "name": "stdout",
     "output_type": "stream",
     "text": [
      "Deleted /user/root/HW2/smooth-model\n",
      "packageJobJar: [] [/usr/lib/hadoop-mapreduce/hadoop-streaming-2.6.0-cdh5.16.2.jar] /tmp/streamjob2826016261435438211.jar tmpDir=null\n",
      "20/05/26 03:56:17 INFO client.RMProxy: Connecting to ResourceManager at /0.0.0.0:8032\n",
      "20/05/26 03:56:17 INFO client.RMProxy: Connecting to ResourceManager at /0.0.0.0:8032\n",
      "20/05/26 03:56:17 INFO mapred.FileInputFormat: Total input paths to process : 1\n",
      "20/05/26 03:56:17 INFO mapreduce.JobSubmitter: number of splits:2\n",
      "20/05/26 03:56:17 INFO mapreduce.JobSubmitter: Submitting tokens for job: job_1590446307220_0014\n",
      "20/05/26 03:56:18 INFO impl.YarnClientImpl: Submitted application application_1590446307220_0014\n",
      "20/05/26 03:56:18 INFO mapreduce.Job: The url to track the job: http://docker.w261:8088/proxy/application_1590446307220_0014/\n",
      "20/05/26 03:56:18 INFO mapreduce.Job: Running job: job_1590446307220_0014\n",
      "20/05/26 03:56:24 INFO mapreduce.Job: Job job_1590446307220_0014 running in uber mode : false\n",
      "20/05/26 03:56:24 INFO mapreduce.Job:  map 0% reduce 0%\n",
      "20/05/26 03:56:29 INFO mapreduce.Job:  map 50% reduce 0%\n",
      "20/05/26 03:56:30 INFO mapreduce.Job:  map 100% reduce 0%\n",
      "20/05/26 03:56:35 INFO mapreduce.Job:  map 100% reduce 25%\n",
      "20/05/26 03:56:37 INFO mapreduce.Job:  map 100% reduce 50%\n",
      "20/05/26 03:56:38 INFO mapreduce.Job:  map 100% reduce 75%\n",
      "20/05/26 03:56:39 INFO mapreduce.Job:  map 100% reduce 100%\n",
      "20/05/26 03:56:39 INFO mapreduce.Job: Job job_1590446307220_0014 completed successfully\n",
      "20/05/26 03:56:39 INFO mapreduce.Job: Counters: 50\n",
      "\tFile System Counters\n",
      "\t\tFILE: Number of bytes read=344110\n",
      "\t\tFILE: Number of bytes written=1590988\n",
      "\t\tFILE: Number of read operations=0\n",
      "\t\tFILE: Number of large read operations=0\n",
      "\t\tFILE: Number of write operations=0\n",
      "\t\tHDFS: Number of bytes read=167388\n",
      "\t\tHDFS: Number of bytes written=260203\n",
      "\t\tHDFS: Number of read operations=18\n",
      "\t\tHDFS: Number of large read operations=0\n",
      "\t\tHDFS: Number of write operations=8\n",
      "\tJob Counters \n",
      "\t\tKilled reduce tasks=1\n",
      "\t\tLaunched map tasks=2\n",
      "\t\tLaunched reduce tasks=4\n",
      "\t\tData-local map tasks=2\n",
      "\t\tTotal time spent by all maps in occupied slots (ms)=6910\n",
      "\t\tTotal time spent by all reduces in occupied slots (ms)=17173\n",
      "\t\tTotal time spent by all map tasks (ms)=6910\n",
      "\t\tTotal time spent by all reduce tasks (ms)=17173\n",
      "\t\tTotal vcore-milliseconds taken by all map tasks=6910\n",
      "\t\tTotal vcore-milliseconds taken by all reduce tasks=17173\n",
      "\t\tTotal megabyte-milliseconds taken by all map tasks=7075840\n",
      "\t\tTotal megabyte-milliseconds taken by all reduce tasks=17585152\n",
      "\tMap-Reduce Framework\n",
      "\t\tMap input records=80\n",
      "\t\tMap output records=25091\n",
      "\t\tMap output bytes=293904\n",
      "\t\tMap output materialized bytes=344134\n",
      "\t\tInput split bytes=226\n",
      "\t\tCombine input records=0\n",
      "\t\tCombine output records=0\n",
      "\t\tReduce input groups=4567\n",
      "\t\tReduce shuffle bytes=344134\n",
      "\t\tReduce input records=25091\n",
      "\t\tReduce output records=4556\n",
      "\t\tSpilled Records=50182\n",
      "\t\tShuffled Maps =8\n",
      "\t\tFailed Shuffles=0\n",
      "\t\tMerged Map outputs=8\n",
      "\t\tGC time elapsed (ms)=343\n",
      "\t\tCPU time spent (ms)=8310\n",
      "\t\tPhysical memory (bytes) snapshot=1456607232\n",
      "\t\tVirtual memory (bytes) snapshot=8261492736\n",
      "\t\tTotal committed heap usage (bytes)=1909456896\n",
      "\tShuffle Errors\n",
      "\t\tBAD_ID=0\n",
      "\t\tCONNECTION=0\n",
      "\t\tIO_ERROR=0\n",
      "\t\tWRONG_LENGTH=0\n",
      "\t\tWRONG_MAP=0\n",
      "\t\tWRONG_REDUCE=0\n",
      "\tFile Input Format Counters \n",
      "\t\tBytes Read=167162\n",
      "\tFile Output Format Counters \n",
      "\t\tBytes Written=260203\n",
      "20/05/26 03:56:39 INFO streaming.StreamJob: Output directory: /user/root/HW2//smooth-model\n",
      "mkdir: cannot create directory `NaiveBayes/Smoothed': File exists\n"
     ]
    }
   ],
   "source": [
    "# part b -  Smoothed model (FILL IN THE MISSING CODE BELOW)\n",
    "\n",
    "# clear the output directory\n",
    "!hdfs dfs -rm -r {HDFS_DIR}/smooth-model\n",
    "\n",
    "# hadoop command\n",
    "!hadoop jar {JAR_FILE} \\\n",
    "  -D stream.num.map.output.key.fields=2 \\\n",
    "  -D mapreduce.job.output.key.comparator.class=org.apache.hadoop.mapred.lib.KeyFieldBasedComparator \\\n",
    "  -D mapreduce.partition.keycomparator.options=\"-k1,1 -k2,2\" \\\n",
    "  -D mapreduce.partition.keypartitioner.options=\"-k1,1\" \\\n",
    "  -files NaiveBayes/train_mapper.py,NaiveBayes/train_reducer_smooth.py \\\n",
    "  -mapper train_mapper.py \\\n",
    "  -reducer train_reducer_smooth.py \\\n",
    "  -partitioner org.apache.hadoop.mapred.lib.KeyFieldBasedPartitioner \\\n",
    "  -input {HDFS_DIR}/enron_train.txt \\\n",
    "  -output {HDFS_DIR}/smooth-model \\\n",
    "  -cmdenv PATH={PATH} \\\n",
    "  -numReduceTasks 4\n",
    "\n",
    "# save the model locally\n",
    "!mkdir NaiveBayes/Smoothed\n",
    "!hdfs dfs -cat {HDFS_DIR}/smooth-model/part-000* > NaiveBayes/Smoothed/NBmodel.txt"
   ]
  },
  {
   "cell_type": "code",
   "execution_count": 77,
   "metadata": {},
   "outputs": [
    {
     "name": "stdout",
     "output_type": "stream",
     "text": [
      "assistance\t2,4,0.00017230486474068118,0.00025912106135986734\n"
     ]
    }
   ],
   "source": [
    "# part b - check your SMOOTHED model results (RUN THIS CELL AS IS)\n",
    "!grep assistance NaiveBayes/Smoothed/NBmodel.txt\n",
    "# EXPECTED OUTPUT: assistance\t2,4,0.000185804533631,0.000277300205202"
   ]
  },
  {
   "cell_type": "code",
   "execution_count": 63,
   "metadata": {},
   "outputs": [
    {
     "name": "stdout",
     "output_type": "stream",
     "text": [
      "money\t1,22,0.00011486990982712079,0.0011919568822553897\n"
     ]
    }
   ],
   "source": [
    "# part b - check your SMOOTHED model results (RUN THIS CELL AS IS)\n",
    "!grep money NaiveBayes/Smoothed/NBmodel.txt\n",
    "# EXPECTED OUTPUT: money\t1,22,0.000123869689087,0.00127558094393"
   ]
  },
  {
   "cell_type": "markdown",
   "metadata": {},
   "source": [
    "__Evaluation__"
   ]
  },
  {
   "cell_type": "code",
   "execution_count": 64,
   "metadata": {},
   "outputs": [],
   "source": [
    "# part c - write your code in NaiveBayes/evaluation_reducer.py then RUN THIS\n",
    "!chmod a+x NaiveBayes/evaluation_reducer.py"
   ]
  },
  {
   "cell_type": "code",
   "execution_count": 69,
   "metadata": {},
   "outputs": [
    {
     "name": "stdout",
     "output_type": "stream",
     "text": [
      "d5\t1\t-8.90668134500626\t-8.10769031284611\t1\n",
      "d6\t1\t-5.780743515794329\t-4.179502370564408\t1\n",
      "d7\t0\t-6.591673732011658\t-7.511706880737811\t0\n",
      "d8\t0\t-4.394449154674438\t-5.565796731681498\t0\n",
      "d5\t1\t-8.90668134500626\t-8.10769031284611\t True\n",
      "d6\t1\t-5.780743515794329\t-4.179502370564408\t True\n",
      "d7\t0\t-6.591673732011658\t-7.511706880737811\t True\n",
      "d8\t0\t-4.394449154674438\t-5.565796731681498\t True\n",
      "precision\t1.0\n",
      "recall\t1.0\n",
      "accuracy\t1.0\n",
      "F-score\t1.0\n"
     ]
    }
   ],
   "source": [
    "# part c - unit test your evaluation job on the chinese model (RUN THIS CELL AS IS)\n",
    "!cat NaiveBayes/chineseTest.txt | NaiveBayes/classify_mapper.py \n",
    "!cat NaiveBayes/chineseTest.txt | NaiveBayes/classify_mapper.py | NaiveBayes/evaluation_reducer.py"
   ]
  },
  {
   "cell_type": "code",
   "execution_count": 90,
   "metadata": {},
   "outputs": [
    {
     "name": "stdout",
     "output_type": "stream",
     "text": [
      "Deleted /user/root/HW2/enron-model-unsmoothed\n",
      "packageJobJar: [] [/usr/lib/hadoop-mapreduce/hadoop-streaming-2.6.0-cdh5.16.2.jar] /tmp/streamjob8452164385149465258.jar tmpDir=null\n",
      "20/05/26 03:55:35 INFO client.RMProxy: Connecting to ResourceManager at /0.0.0.0:8032\n",
      "20/05/26 03:55:35 INFO client.RMProxy: Connecting to ResourceManager at /0.0.0.0:8032\n",
      "20/05/26 03:55:36 INFO mapred.FileInputFormat: Total input paths to process : 1\n",
      "20/05/26 03:55:36 INFO mapreduce.JobSubmitter: number of splits:2\n",
      "20/05/26 03:55:36 INFO mapreduce.JobSubmitter: Submitting tokens for job: job_1590446307220_0013\n",
      "20/05/26 03:55:36 INFO impl.YarnClientImpl: Submitted application application_1590446307220_0013\n",
      "20/05/26 03:55:36 INFO mapreduce.Job: The url to track the job: http://docker.w261:8088/proxy/application_1590446307220_0013/\n",
      "20/05/26 03:55:36 INFO mapreduce.Job: Running job: job_1590446307220_0013\n",
      "20/05/26 03:55:42 INFO mapreduce.Job: Job job_1590446307220_0013 running in uber mode : false\n",
      "20/05/26 03:55:42 INFO mapreduce.Job:  map 0% reduce 0%\n",
      "20/05/26 03:55:48 INFO mapreduce.Job:  map 50% reduce 0%\n",
      "20/05/26 03:55:49 INFO mapreduce.Job:  map 100% reduce 0%\n",
      "20/05/26 03:55:53 INFO mapreduce.Job:  map 100% reduce 100%\n",
      "20/05/26 03:55:54 INFO mapreduce.Job: Job job_1590446307220_0013 completed successfully\n",
      "20/05/26 03:55:55 INFO mapreduce.Job: Counters: 49\n",
      "\tFile System Counters\n",
      "\t\tFILE: Number of bytes read=818\n",
      "\t\tFILE: Number of bytes written=451233\n",
      "\t\tFILE: Number of read operations=0\n",
      "\t\tFILE: Number of large read operations=0\n",
      "\t\tFILE: Number of write operations=0\n",
      "\t\tHDFS: Number of bytes read=49909\n",
      "\t\tHDFS: Number of bytes written=1050\n",
      "\t\tHDFS: Number of read operations=9\n",
      "\t\tHDFS: Number of large read operations=0\n",
      "\t\tHDFS: Number of write operations=2\n",
      "\tJob Counters \n",
      "\t\tLaunched map tasks=2\n",
      "\t\tLaunched reduce tasks=1\n",
      "\t\tData-local map tasks=2\n",
      "\t\tTotal time spent by all maps in occupied slots (ms)=6262\n",
      "\t\tTotal time spent by all reduces in occupied slots (ms)=2816\n",
      "\t\tTotal time spent by all map tasks (ms)=6262\n",
      "\t\tTotal time spent by all reduce tasks (ms)=2816\n",
      "\t\tTotal vcore-milliseconds taken by all map tasks=6262\n",
      "\t\tTotal vcore-milliseconds taken by all reduce tasks=2816\n",
      "\t\tTotal megabyte-milliseconds taken by all map tasks=6412288\n",
      "\t\tTotal megabyte-milliseconds taken by all reduce tasks=2883584\n",
      "\tMap-Reduce Framework\n",
      "\t\tMap input records=20\n",
      "\t\tMap output records=20\n",
      "\t\tMap output bytes=772\n",
      "\t\tMap output materialized bytes=824\n",
      "\t\tInput split bytes=224\n",
      "\t\tCombine input records=0\n",
      "\t\tCombine output records=0\n",
      "\t\tReduce input groups=20\n",
      "\t\tReduce shuffle bytes=824\n",
      "\t\tReduce input records=20\n",
      "\t\tReduce output records=29\n",
      "\t\tSpilled Records=40\n",
      "\t\tShuffled Maps =2\n",
      "\t\tFailed Shuffles=0\n",
      "\t\tMerged Map outputs=2\n",
      "\t\tGC time elapsed (ms)=86\n",
      "\t\tCPU time spent (ms)=1960\n",
      "\t\tPhysical memory (bytes) snapshot=791801856\n",
      "\t\tVirtual memory (bytes) snapshot=4132978688\n",
      "\t\tTotal committed heap usage (bytes)=822607872\n",
      "\tShuffle Errors\n",
      "\t\tBAD_ID=0\n",
      "\t\tCONNECTION=0\n",
      "\t\tIO_ERROR=0\n",
      "\t\tWRONG_LENGTH=0\n",
      "\t\tWRONG_MAP=0\n",
      "\t\tWRONG_REDUCE=0\n",
      "\tFile Input Format Counters \n",
      "\t\tBytes Read=49685\n",
      "\tFile Output Format Counters \n",
      "\t\tBytes Written=1050\n",
      "20/05/26 03:55:55 INFO streaming.StreamJob: Output directory: /user/root/HW2//enron-model-unsmoothed\n"
     ]
    }
   ],
   "source": [
    "# part c - Evaluate the UNSMOOTHED Model Here (FILL IN THE MISSING CODE)\n",
    "\n",
    "# clear output directory\n",
    "!hdfs dfs -rm -r {HDFS_DIR}/enron-model-unsmoothed\n",
    "\n",
    "# hadoop job\n",
    "!hadoop jar {JAR_FILE} \\\n",
    "  -files NaiveBayes/Unsmoothed/NBmodel.txt,NaiveBayes/classify_mapper.py,NaiveBayes/evaluation_reducer.py \\\n",
    "  -mapper classify_mapper.py \\\n",
    "  -reducer evaluation_reducer.py \\\n",
    "  -input {HDFS_DIR}/enron_test.txt \\\n",
    "  -output {HDFS_DIR}/enron-model-unsmoothed \\\n",
    "  -cmdenv PATH={PATH} \\\n",
    "  -numReduceTasks 1\n",
    "\n",
    "# retrieve results locally\n",
    "!hdfs dfs -cat {HDFS_DIR}/enron-model-unsmoothed/part-000* > NaiveBayes/Unsmoothed/results.txt"
   ]
  },
  {
   "cell_type": "code",
   "execution_count": 93,
   "metadata": {},
   "outputs": [
    {
     "name": "stdout",
     "output_type": "stream",
     "text": [
      "rm: `/user/root/HW2//enron-model-smoothed': No such file or directory\n",
      "packageJobJar: [] [/usr/lib/hadoop-mapreduce/hadoop-streaming-2.6.0-cdh5.16.2.jar] /tmp/streamjob8530183341554103917.jar tmpDir=null\n",
      "20/05/26 03:57:33 INFO client.RMProxy: Connecting to ResourceManager at /0.0.0.0:8032\n",
      "20/05/26 03:57:33 INFO client.RMProxy: Connecting to ResourceManager at /0.0.0.0:8032\n",
      "20/05/26 03:57:34 INFO mapred.FileInputFormat: Total input paths to process : 1\n",
      "20/05/26 03:57:34 INFO mapreduce.JobSubmitter: number of splits:2\n",
      "20/05/26 03:57:34 INFO mapreduce.JobSubmitter: Submitting tokens for job: job_1590446307220_0015\n",
      "20/05/26 03:57:34 INFO impl.YarnClientImpl: Submitted application application_1590446307220_0015\n",
      "20/05/26 03:57:34 INFO mapreduce.Job: The url to track the job: http://docker.w261:8088/proxy/application_1590446307220_0015/\n",
      "20/05/26 03:57:34 INFO mapreduce.Job: Running job: job_1590446307220_0015\n",
      "20/05/26 03:57:40 INFO mapreduce.Job: Job job_1590446307220_0015 running in uber mode : false\n",
      "20/05/26 03:57:40 INFO mapreduce.Job:  map 0% reduce 0%\n",
      "20/05/26 03:57:46 INFO mapreduce.Job:  map 50% reduce 0%\n",
      "20/05/26 03:57:47 INFO mapreduce.Job:  map 100% reduce 0%\n",
      "20/05/26 03:57:52 INFO mapreduce.Job:  map 100% reduce 100%\n",
      "20/05/26 03:57:52 INFO mapreduce.Job: Job job_1590446307220_0015 completed successfully\n",
      "20/05/26 03:57:52 INFO mapreduce.Job: Counters: 49\n",
      "\tFile System Counters\n",
      "\t\tFILE: Number of bytes read=1346\n",
      "\t\tFILE: Number of bytes written=452277\n",
      "\t\tFILE: Number of read operations=0\n",
      "\t\tFILE: Number of large read operations=0\n",
      "\t\tFILE: Number of write operations=0\n",
      "\t\tHDFS: Number of bytes read=49909\n",
      "\t\tHDFS: Number of bytes written=1556\n",
      "\t\tHDFS: Number of read operations=9\n",
      "\t\tHDFS: Number of large read operations=0\n",
      "\t\tHDFS: Number of write operations=2\n",
      "\tJob Counters \n",
      "\t\tLaunched map tasks=2\n",
      "\t\tLaunched reduce tasks=1\n",
      "\t\tData-local map tasks=2\n",
      "\t\tTotal time spent by all maps in occupied slots (ms)=6244\n",
      "\t\tTotal time spent by all reduces in occupied slots (ms)=2819\n",
      "\t\tTotal time spent by all map tasks (ms)=6244\n",
      "\t\tTotal time spent by all reduce tasks (ms)=2819\n",
      "\t\tTotal vcore-milliseconds taken by all map tasks=6244\n",
      "\t\tTotal vcore-milliseconds taken by all reduce tasks=2819\n",
      "\t\tTotal megabyte-milliseconds taken by all map tasks=6393856\n",
      "\t\tTotal megabyte-milliseconds taken by all reduce tasks=2886656\n",
      "\tMap-Reduce Framework\n",
      "\t\tMap input records=20\n",
      "\t\tMap output records=20\n",
      "\t\tMap output bytes=1300\n",
      "\t\tMap output materialized bytes=1352\n",
      "\t\tInput split bytes=224\n",
      "\t\tCombine input records=0\n",
      "\t\tCombine output records=0\n",
      "\t\tReduce input groups=20\n",
      "\t\tReduce shuffle bytes=1352\n",
      "\t\tReduce input records=20\n",
      "\t\tReduce output records=29\n",
      "\t\tSpilled Records=40\n",
      "\t\tShuffled Maps =2\n",
      "\t\tFailed Shuffles=0\n",
      "\t\tMerged Map outputs=2\n",
      "\t\tGC time elapsed (ms)=70\n",
      "\t\tCPU time spent (ms)=1940\n",
      "\t\tPhysical memory (bytes) snapshot=794632192\n",
      "\t\tVirtual memory (bytes) snapshot=4139208704\n",
      "\t\tTotal committed heap usage (bytes)=822607872\n",
      "\tShuffle Errors\n",
      "\t\tBAD_ID=0\n",
      "\t\tCONNECTION=0\n",
      "\t\tIO_ERROR=0\n",
      "\t\tWRONG_LENGTH=0\n",
      "\t\tWRONG_MAP=0\n",
      "\t\tWRONG_REDUCE=0\n",
      "\tFile Input Format Counters \n",
      "\t\tBytes Read=49685\n",
      "\tFile Output Format Counters \n",
      "\t\tBytes Written=1556\n",
      "20/05/26 03:57:52 INFO streaming.StreamJob: Output directory: /user/root/HW2//enron-model-smoothed\n"
     ]
    }
   ],
   "source": [
    "# part c - Evaluate the SMOOTHED Model Here (FILL IN THE MISSING CODE)\n",
    "\n",
    "# clear output directory\n",
    "!hdfs dfs -rm -r {HDFS_DIR}/enron-model-smoothed\n",
    "\n",
    "# hadoop job\n",
    "!hadoop jar {JAR_FILE} \\\n",
    "  -files NaiveBayes/Smoothed/NBmodel.txt,NaiveBayes/classify_mapper.py,NaiveBayes/evaluation_reducer.py \\\n",
    "  -mapper classify_mapper.py \\\n",
    "  -reducer evaluation_reducer.py \\\n",
    "  -input {HDFS_DIR}/enron_test.txt \\\n",
    "  -output {HDFS_DIR}/enron-model-smoothed \\\n",
    "  -cmdenv PATH={PATH} \\\n",
    "  -numReduceTasks 1\n",
    "\n",
    "# retrieve results locally\n",
    "!hdfs dfs -cat {HDFS_DIR}/enron-model-smoothed/part-000* > NaiveBayes/Smoothed/results.txt"
   ]
  },
  {
   "cell_type": "code",
   "execution_count": 94,
   "metadata": {},
   "outputs": [
    {
     "name": "stdout",
     "output_type": "stream",
     "text": [
      "=========== UNSMOOTHED MODEL ============\n",
      "# Documents:\t 20.0\n",
      "True Positives:\t 1.0\n",
      "True Negatives:\t 9.0\n",
      "False Positives:\t 0.0\n",
      "False Negatives:\t 10.0\n",
      "accuracy\t0.5\n",
      "precision\t1.0\n",
      "recall\t0.09090909090909091\n",
      "F-score\t0.16666666666666669\n",
      "=========== SMOOTHED MODEL ============\n",
      "# Documents:\t 20.0\n",
      "True Positives:\t 11.0\n",
      "True Negatives:\t 6.0\n",
      "False Positives:\t 3.0\n",
      "False Negatives:\t 0.0\n",
      "accuracy\t0.85\n",
      "precision\t0.7857142857142857\n",
      "recall\t1.0\n",
      "F-score\t0.88\n"
     ]
    }
   ],
   "source": [
    "# part c - display results \n",
    "# NOTE: feel free to modify the tail commands to match the format of your results file\n",
    "print('=========== UNSMOOTHED MODEL ============')\n",
    "!tail -n 9 NaiveBayes/Unsmoothed/results.txt\n",
    "print('=========== SMOOTHED MODEL ============')\n",
    "!tail -n 9 NaiveBayes/Smoothed/results.txt"
   ]
  },
  {
   "cell_type": "markdown",
   "metadata": {},
   "source": [
    "__`EXPECTED RESULTS:`__ \n",
    "<table>\n",
    "<th>Unsmoothed Model</th>\n",
    "<th>Smoothed Model</th>\n",
    "<tr>\n",
    "<td><pre>\n",
    "# Documents:\t20\n",
    "True Positives:\t1\n",
    "True Negatives:\t9\n",
    "False Positives:\t0\n",
    "False Negatives:\t10\n",
    "Accuracy\t0.5\n",
    "Precision\t1.0\n",
    "Recall\t0.0909\n",
    "F-Score\t0.1666\n",
    "</pre></td>\n",
    "<td><pre>\n",
    "# Documents:\t20\n",
    "True Positives:\t11\n",
    "True Negatives:\t6\n",
    "False Positives:\t3\n",
    "False Negatives:\t0\n",
    "Accuracy\t0.85\n",
    "Precision\t0.7857\n",
    "Recall\t1.0\n",
    "F-Score\t0.88\n",
    "</pre></td>\n",
    "</tr>\n",
    "</table>\n",
    "\n",
    "__`NOTE:`__ _Don't be too disappointed if these seem low to you. We've trained and tested on a very very small corpus... bigger datasets coming soon!_"
   ]
  },
  {
   "cell_type": "markdown",
   "metadata": {},
   "source": [
    "# Question 10: Custom Partitioning and Secondary Sort\n",
    "\n",
    "Now that we have our model, we can analyse the results and think about future improvements.\n",
    "\n",
    "### Q10 Tasks:\n",
    "\n",
    "* __a) code + short response:__ Let's look at the top ten words with the highest conditional probability in `Spam` and in `Ham`. We'll do this by writing a Hadoop job that sorts the model file (`NaiveBayes/Smoothed/NBmodel.py`). Normally we'd have to run two jobs -- one that sorts on $P(word|ham)$ and another that sorts on $P(word|spam)$. However if we slighly modify the data format in the model file then we can get the top words in each class with just one job. We've written a mapper that will do just this for you. Read through __`NaiveBayes/model_sort_mapper.py`__ and then briefly explain how this mapper will allow us to partition and sort our model file. Write a Hadoop job that uses our mapper and `/bin/cat` for a reducer to partition and sort. Print out the top 10 words in each class (where 'top' == highest conditional probability).[`HINT:` _this should remind you a lot of what we did in Question 6._]\n",
    "\n",
    "\n",
    "* __b) short response:__ What do you notice about the 'top words' we printed in `a`? How would increasing the smoothing parameter 'k' affect the probabilities for the top words that you identified for 'a'. How would they affect the probabilities of words that occur much more in one class than another? In summary, how does the smoothing parameter 'k' affect the bias and the variance of our model. [`NOTE:` _you do not need to code anything for this task, but if you are struggling with it you could try changing 'k' and see what happens to the test set. We don't recommend doing this exploration with the Enron data because it will be harder to see the impact with such a big vocabulary_]"
   ]
  },
  {
   "cell_type": "markdown",
   "metadata": {},
   "source": [
    "### Q10 Student Answers:\n",
    "> __a)__ Type your answer here!\n",
    "\n",
    "> __b)__ Type your answer here!"
   ]
  },
  {
   "cell_type": "code",
   "execution_count": 101,
   "metadata": {},
   "outputs": [],
   "source": [
    "# Move local NBmodel files to hdfs\n",
    "!hdfs dfs -copyFromLocal NaiveBayes/Smoothed/NBmodel.txt {HDFS_DIR}"
   ]
  },
  {
   "cell_type": "code",
   "execution_count": 102,
   "metadata": {},
   "outputs": [
    {
     "name": "stdout",
     "output_type": "stream",
     "text": [
      "rm: `/user/root/HW2//enron-model-smoothed-sort': No such file or directory\n",
      "packageJobJar: [] [/usr/lib/hadoop-mapreduce/hadoop-streaming-2.6.0-cdh5.16.2.jar] /tmp/streamjob1893625567159298962.jar tmpDir=null\n",
      "20/05/26 04:40:59 INFO client.RMProxy: Connecting to ResourceManager at /0.0.0.0:8032\n",
      "20/05/26 04:40:59 INFO client.RMProxy: Connecting to ResourceManager at /0.0.0.0:8032\n",
      "20/05/26 04:41:00 INFO mapred.FileInputFormat: Total input paths to process : 1\n",
      "20/05/26 04:41:00 INFO mapreduce.JobSubmitter: number of splits:2\n",
      "20/05/26 04:41:00 INFO mapreduce.JobSubmitter: Submitting tokens for job: job_1590446307220_0019\n",
      "20/05/26 04:41:00 INFO impl.YarnClientImpl: Submitted application application_1590446307220_0019\n",
      "20/05/26 04:41:00 INFO mapreduce.Job: The url to track the job: http://docker.w261:8088/proxy/application_1590446307220_0019/\n",
      "20/05/26 04:41:00 INFO mapreduce.Job: Running job: job_1590446307220_0019\n",
      "20/05/26 04:41:06 INFO mapreduce.Job: Job job_1590446307220_0019 running in uber mode : false\n",
      "20/05/26 04:41:06 INFO mapreduce.Job:  map 0% reduce 0%\n",
      "20/05/26 04:41:12 INFO mapreduce.Job:  map 50% reduce 0%\n",
      "20/05/26 04:41:13 INFO mapreduce.Job:  map 100% reduce 0%\n",
      "20/05/26 04:41:18 INFO mapreduce.Job:  map 100% reduce 50%\n",
      "20/05/26 04:41:19 INFO mapreduce.Job:  map 100% reduce 100%\n",
      "20/05/26 04:41:19 INFO mapreduce.Job: Job job_1590446307220_0019 completed successfully\n",
      "20/05/26 04:41:19 INFO mapreduce.Job: Counters: 50\n",
      "\tFile System Counters\n",
      "\t\tFILE: Number of bytes read=398394\n",
      "\t\tFILE: Number of bytes written=1398542\n",
      "\t\tFILE: Number of read operations=0\n",
      "\t\tFILE: Number of large read operations=0\n",
      "\t\tFILE: Number of write operations=0\n",
      "\t\tHDFS: Number of bytes read=264517\n",
      "\t\tHDFS: Number of bytes written=389272\n",
      "\t\tHDFS: Number of read operations=12\n",
      "\t\tHDFS: Number of large read operations=0\n",
      "\t\tHDFS: Number of write operations=4\n",
      "\tJob Counters \n",
      "\t\tKilled reduce tasks=1\n",
      "\t\tLaunched map tasks=2\n",
      "\t\tLaunched reduce tasks=2\n",
      "\t\tData-local map tasks=2\n",
      "\t\tTotal time spent by all maps in occupied slots (ms)=6260\n",
      "\t\tTotal time spent by all reduces in occupied slots (ms)=6314\n",
      "\t\tTotal time spent by all map tasks (ms)=6260\n",
      "\t\tTotal time spent by all reduce tasks (ms)=6314\n",
      "\t\tTotal vcore-milliseconds taken by all map tasks=6260\n",
      "\t\tTotal vcore-milliseconds taken by all reduce tasks=6314\n",
      "\t\tTotal megabyte-milliseconds taken by all map tasks=6410240\n",
      "\t\tTotal megabyte-milliseconds taken by all reduce tasks=6465536\n",
      "\tMap-Reduce Framework\n",
      "\t\tMap input records=4556\n",
      "\t\tMap output records=4555\n",
      "\t\tMap output bytes=389272\n",
      "\t\tMap output materialized bytes=398406\n",
      "\t\tInput split bytes=218\n",
      "\t\tCombine input records=0\n",
      "\t\tCombine output records=0\n",
      "\t\tReduce input groups=4555\n",
      "\t\tReduce shuffle bytes=398406\n",
      "\t\tReduce input records=4555\n",
      "\t\tReduce output records=4555\n",
      "\t\tSpilled Records=9110\n",
      "\t\tShuffled Maps =4\n",
      "\t\tFailed Shuffles=0\n",
      "\t\tMerged Map outputs=4\n",
      "\t\tGC time elapsed (ms)=126\n",
      "\t\tCPU time spent (ms)=3920\n",
      "\t\tPhysical memory (bytes) snapshot=1049661440\n",
      "\t\tVirtual memory (bytes) snapshot=5509836800\n",
      "\t\tTotal committed heap usage (bytes)=1140850688\n",
      "\tShuffle Errors\n",
      "\t\tBAD_ID=0\n",
      "\t\tCONNECTION=0\n",
      "\t\tIO_ERROR=0\n",
      "\t\tWRONG_LENGTH=0\n",
      "\t\tWRONG_MAP=0\n",
      "\t\tWRONG_REDUCE=0\n",
      "\tFile Input Format Counters \n",
      "\t\tBytes Read=264299\n",
      "\tFile Output Format Counters \n",
      "\t\tBytes Written=389272\n",
      "20/05/26 04:41:19 INFO streaming.StreamJob: Output directory: /user/root/HW2//enron-model-smoothed-sort\n"
     ]
    }
   ],
   "source": [
    "## part a - write your Hadoop job here (sort smoothed model on P(word|class))\n",
    "\n",
    "# clear output directory\n",
    "!hdfs dfs -rm -r {HDFS_DIR}/enron-model-smoothed-sort\n",
    "# hadoop job\n",
    "\n",
    "!hadoop jar {JAR_FILE} \\\n",
    "  -D stream.num.map.output.key.fields=4 \\\n",
    "  -D mapreduce.job.output.key.comparator.class=org.apache.hadoop.mapred.lib.KeyFieldBasedComparator \\\n",
    "  -D mapreduce.partition.keycomparator.options=\"-k4,4nr\" \\\n",
    "  -D mapreduce.partition.keypartitioner.options=\"-k3,3\" \\\n",
    "  -files NaiveBayes/Smoothed/NBmodel.txt,NaiveBayes/model_sort_mapper.py \\\n",
    "  -mapper model_sort_mapper.py \\\n",
    "  -reducer /bin/cat \\\n",
    "  -partitioner org.apache.hadoop.mapred.lib.KeyFieldBasedPartitioner \\\n",
    "  -input {HDFS_DIR}/NBmodel.txt \\\n",
    "  -output {HDFS_DIR}/enron-model-smoothed-sort \\\n",
    "  -cmdenv PATH={PATH} \\\n",
    "  -numReduceTasks 2\n",
    "\n",
    "!hdfs dfs -cat {HDFS_DIR}/enron-model-smoothed-sort/part-000* > NaiveBayes/Smoothed/Sorted_results.txt"
   ]
  },
  {
   "cell_type": "code",
   "execution_count": 103,
   "metadata": {},
   "outputs": [
    {
     "name": "stdout",
     "output_type": "stream",
     "text": [
      "\n",
      "===== part-00000=====\n",
      "\n",
      "ect\t378,0,0.021767847912239388,5.182421227197347e-05\tham\t0.021767847912239388\t\n",
      "and\t258,277,0.014875653322612141,0.014407131011608624\tham\t0.014875653322612141\t\n",
      "hou\t203,0,0.01171673080236632,5.182421227197347e-05\tham\t0.01171673080236632\t\n",
      "in\t160,157,0.009247027741083224,0.008188225538971807\tham\t0.009247027741083224\t\n",
      "for\t148,153,0.008557808282120499,0.007980928689883914\tham\t0.008557808282120499\t\n",
      "on\t122,95,0.007064499454367928,0.004975124378109453\tham\t0.007064499454367928\t\n",
      "enron\t116,0,0.006719889724886566,5.182421227197347e-05\tham\t0.006719889724886566\t\n",
      "will\t113,69,0.006547584860145885,0.0036276948590381426\tham\t0.006547584860145885\t\n",
      "i\t113,106,0.006547584860145885,0.005545190713101161\tham\t0.006547584860145885\t\n",
      "this\t99,90,0.0057434954913560396,0.004716003316749586\tham\t0.0057434954913560396\t\n",
      "cat: Unable to write to output stream.\n",
      "\n",
      "===== part-00001=====\n",
      "\n",
      "the\t453,535,0.02607546953075642,0.027777777777777776\tspam\t0.027777777777777776\t\n",
      "to\t350,420,0.020159669174659698,0.02181799336650083\tspam\t0.02181799336650083\t\n",
      "a\t168,274,0.009706507380391706,0.014251658374792702\tspam\t0.014251658374792702\t\n",
      "your\t35,271,0.0020676583768881743,0.014096185737976783\tspam\t0.014096185737976783\t\n",
      "you\t80,252,0.004652231347998392,0.013111525704809286\tspam\t0.013111525704809286\t\n",
      "of\t188,252,0.010855206478662914,0.013111525704809286\tspam\t0.013111525704809286\t\n",
      "it\t30,119,0.0017804836023203722,0.006218905472636816\tspam\t0.006218905472636816\t\n",
      "com\t74,108,0.0043076216185170295,0.005648839137645108\tspam\t0.005648839137645108\t\n",
      "that\t71,100,0.004135316753776349,0.00523424543946932\tspam\t0.00523424543946932\t\n",
      "or\t41,88,0.0024122681063695364,0.004612354892205638\tspam\t0.004612354892205638\t\n",
      "cat: Unable to write to output stream.\n"
     ]
    }
   ],
   "source": [
    "# part b - print top words in each class\n",
    "for idx in range(2):\n",
    "    print(f\"\\n===== part-0000{idx}=====\\n\")\n",
    "    !hdfs dfs -cat {HDFS_DIR}/enron-model-smoothed-sort/part-0000{idx} | head"
   ]
  },
  {
   "cell_type": "raw",
   "metadata": {},
   "source": [
    "Expected results:\n",
    "============== PART-00000===============\n",
    "ect\t378,0,0.023473306082001735,5.546004104043037e-05\tham\t0.023473306082001735\t\n",
    "and\t258,277,0.01604112473677691,0.015417891409239643\tham\t0.01604112473677691\t\n",
    "hou\t203,0,0.0126347082868822,5.546004104043037e-05\tham\t0.0126347082868822\t\n",
    "in\t160,157,0.009971509971509971,0.008762686484387999\tham\t0.009971509971509971\t\n",
    "for\t148,153,0.00922829183698749,0.008540846320226277\tham\t0.00922829183698749\t\n",
    "on\t122,95,0.007617985878855444,0.005324163939881316\tham\t0.007617985878855444\t\n",
    "enron\t116,0,0.007246376811594203,5.546004104043037e-05\tham\t0.007246376811594203\t\n",
    "will\t113,69,0.007060572277963582,0.003882202872830126\tham\t0.007060572277963582\t\n",
    "i\t113,106,0.007060572277963582,0.00593422439132605\tham\t0.007060572277963582\t\n",
    "this\t99,90,0.00619348445435402,0.005046863734679163\tham\t0.00619348445435402\t\n",
    "cat: Unable to write to output stream.\n",
    "============== PART-00001===============\n",
    "the\t453,535,0.02811841942276725,0.029726581997670677\tspam\t0.029726581997670677\t\n",
    "to\t350,420,0.021739130434782608,0.023348677278021184\tspam\t0.023348677278021184\t\n",
    "a\t168,274,0.010466988727858293,0.015251511286118352\tspam\t0.015251511286118352\t\n",
    "your\t35,271,0.002229654403567447,0.01508513116299706\tspam\t0.01508513116299706\t\n",
    "of\t188,252,0.011705685618729096,0.014031390383228884\tspam\t0.014031390383228884\t\n",
    "you\t80,252,0.005016722408026756,0.014031390383228884\tspam\t0.014031390383228884\t\n",
    "it\t30,119,0.0019199801808497462,0.0066552049248516446\tspam\t0.0066552049248516446\t\n",
    "com\t74,108,0.004645113340765515,0.006045144473406911\tspam\t0.006045144473406911\t\n",
    "that\t71,100,0.004459308807134894,0.005601464145083467\tspam\t0.005601464145083467\t\n",
    "or\t41,88,0.002601263470828688,0.004935943652598303\tspam\t0.004935943652598303\t\n",
    "cat: Unable to write to output stream.\n"
   ]
  },
  {
   "cell_type": "markdown",
   "metadata": {},
   "source": [
    "### Congratulations, you have completed HW2! Please refer to the readme for submission instructions.\n",
    "\n",
    "If you would like to provide feedback regarding this homework, please use the survey at: https://docs.google.com/forms/d/e/1FAIpQLSce9feiQeSkdP43A0ZYui1tMGIBfLfzb0rmgToQeZD9bXXX8Q/viewform"
   ]
  },
  {
   "cell_type": "code",
   "execution_count": null,
   "metadata": {},
   "outputs": [],
   "source": []
  }
 ],
 "metadata": {
  "kernelspec": {
   "display_name": "Python 3",
   "language": "python",
   "name": "python3"
  },
  "language_info": {
   "codemirror_mode": {
    "name": "ipython",
    "version": 3
   },
   "file_extension": ".py",
   "mimetype": "text/x-python",
   "name": "python",
   "nbconvert_exporter": "python",
   "pygments_lexer": "ipython3",
   "version": "3.7.5"
  }
 },
 "nbformat": 4,
 "nbformat_minor": 4
}
